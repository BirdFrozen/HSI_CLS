{
 "cells": [
  {
   "cell_type": "code",
   "execution_count": 1,
   "metadata": {},
   "outputs": [],
   "source": [
    "import os\n",
    "import sys\n",
    "import random\n",
    "import cv2\n",
    "import math\n",
    "import re\n",
    "import time\n",
    "import numpy as np\n",
    "import matplotlib\n",
    "import matplotlib.pyplot as plt\n",
    "\n",
    "import torch\n",
    "import torch.nn as nn\n",
    "import torch.optim as optim\n",
    "from torch.utils.data import DataLoader, Dataset, random_split\n",
    "import torchvision.transforms as transforms\n",
    "from sklearn.decomposition import PCA\n",
    "\n",
    "from datetime import datetime\n",
    "from tqdm import tqdm\n",
    "from PIL import Image\n",
    "\n",
    "# Root directory of the project\n",
    "ROOT_DIR = os.path.abspath(\".\")\n",
    "\n",
    "# Import Mask RCNN\n",
    "sys.path.append(ROOT_DIR)  # To find local version of the library\n",
    "\n",
    "import dataprocess\n",
    "import estimation\n",
    "import MyModel\n",
    "import visualize\n",
    "import loss\n",
    "import spectral\n",
    "\n",
    "# torch.cuda.empty_cache()"
   ]
  },
  {
   "cell_type": "markdown",
   "metadata": {},
   "source": [
    "# 1.全局设置Configurations\n",
    "- 导入函数库\n",
    "- 定义一些全局公用的参数，如裁剪图像的大小"
   ]
  },
  {
   "cell_type": "code",
   "execution_count": 2,
   "metadata": {},
   "outputs": [
    {
     "name": "stdout",
     "output_type": "stream",
     "text": [
      "\n",
      "Configurations:\n",
      "IMG_HIGHT                      100\n",
      "IMG_WIDTH                      100\n",
      "SPLIT_SIGN                     /\n",
      "TestImageRoot                  /home/hsilab/Data/working_syj/datasets/jinyinhua/test3\n",
      "TrainImageRoot                 /home/hsilab/Data/working_syj/datasets/jinyinhua/train3\n",
      "\n",
      "\n"
     ]
    }
   ],
   "source": [
    "\n",
    "class Config():\n",
    "    TrainImageRoot = r'/home/hsilab/Data/working_syj/datasets/jinyinhua/train3'\n",
    "    TestImageRoot = r'/home/hsilab/Data/working_syj/datasets/jinyinhua/test3'\n",
    "\n",
    "    IMG_HIGHT = 100\n",
    "    IMG_WIDTH = 100\n",
    "\n",
    "    SPLIT_SIGN = '/'\n",
    "\n",
    "    # 打印所有的全局参数\n",
    "    def display(self):\n",
    "        print(\"\\nConfigurations:\")\n",
    "        for a in dir(self):\n",
    "            if not a.startswith(\"__\") and not callable(getattr(self, a)):\n",
    "                print(\"{:30} {}\".format(a, getattr(self, a)))\n",
    "        print(\"\\n\")\n",
    "\n",
    "config = Config()\n",
    "config.display()\n"
   ]
  },
  {
   "cell_type": "markdown",
   "metadata": {},
   "source": [
    "# 2.定义Dataset\n",
    "- __init__(self,*): 定义相关参数，图像预处理\n",
    "- __len__(self): 用于获取Dataset的长度\n",
    "- __getitem__(self, idx): 在list索引时返回一份预处理过的数据\n",
    "\n",
    "在getitem中\n",
    "1. 读取原始图像\n",
    "2. 对原始图像引入块状噪声，因此需要写随机引入噪声的函数，高斯噪声？或者直接裁剪，添加随机颜色随机大小随机位置的色块 \\\n",
    "定义随机获取一个区域的函数 ： 图像大小，噪声块大小范围 输出 一个随机区域的mask，用于之后添加噪声和构建目标输出图像 \\\n",
    "思考一下:\n",
    "- 怎么定义噪声，\n",
    "- 定义什么形状的噪声，\n",
    "- 定义几块噪声，\n",
    "- 定义什么类型的噪声,\n",
    "- 将噪声与原图像相加还是相乘 \\\n",
    "定义随机噪声函数 输入 ：原始图像 图像大小 噪声块大小范围  输出： 添加噪声后的图像\n",
    "3. 构建目标输出图像 \\\n",
    "定义输出图像函数 输入 ：原始图像 图像大小 噪声块 输出：添加噪声后的图片"
   ]
  },
  {
   "cell_type": "code",
   "execution_count": 3,
   "metadata": {},
   "outputs": [],
   "source": [
    "class TrainDataset(Dataset):\n",
    "    # 输入参数为待分割图像的地址元组，GroundTruth的地址元组，以及两者的归一化函数\n",
    "    def __init__(self, DatPath, HdrPath,label,ImageWidth, ImageHeight):\n",
    "        \n",
    "        self.DatPath = DatPath\n",
    "        self.HdrPath = HdrPath\n",
    "        self.label = label\n",
    "        self.ImageWidth = ImageWidth\n",
    "        self.ImageHeight = ImageHeight\n",
    "\n",
    "        self.ImageTransformer = transforms.Compose([\n",
    "            transforms.ToTensor(),\n",
    "            transforms.CenterCrop(self.ImageWidth),\n",
    "        ])\n",
    "        # self.pca = pca\n",
    "\n",
    "    def __len__(self):\n",
    "        return len(self.DatPath)\n",
    "\n",
    "    def __getitem__(self, idx):\n",
    "        DatPath = self.DatPath[idx]\n",
    "        HdrPath = self.HdrPath[idx]\n",
    "\n",
    "        # 读取图像\n",
    "        \n",
    "        img = spectral.envi.open(HdrPath, DatPath)\n",
    "        img = img.read_bands(range(img.shape[2])) #读取全部的光谱维度\n",
    "        img = img/65536 # turn to 0~1 img\n",
    "        x = img.shape[0] # save width and hight of img , for recover\n",
    "        y = img.shape[1]\n",
    "        z = img.shape[2]\n",
    "        img = img.reshape((-1,z)) # reshape to fit pca transform\n",
    "        pca = PCA(10) \n",
    "        img = pca.fit_transform(img) # 主成分分析\n",
    "        img = img.reshape((x,y,img.shape[-1]))\n",
    "        \n",
    "        img = img.transpose([2,0,1])\n",
    "        img = torch.FloatTensor(img)\n",
    "        # img = transforms.RandomCrop(self.ImageWidth)(img) # 将图像裁剪到一定的输入大小上，保证输入的一致性\n",
    "        img = transforms.CenterCrop(self.ImageWidth)(img) # 将图像裁剪到一定的输入大小上，保证输入的一致性\n",
    "\n",
    "        return img,torch.FloatTensor([self.label[idx]])\n",
    "\n",
    "    def get_class(self, idx) :\n",
    "        return self.DatPath[idx].split(config.SPLIT_SIGN)[-2]\n",
    "\n",
    "    def get_fakeimg(self, idx) :\n",
    "        DatPath = self.DatPath[idx]\n",
    "        HdrPath = self.HdrPath[idx]\n",
    "\n",
    "        # 读取图像\n",
    "        img = spectral.envi.open(HdrPath, DatPath)\n",
    "        red = img.read_band(241) #读取红光谱维度\n",
    "        green = img.read_band(151)\n",
    "        blue = img.read_band(71)\n",
    "        img = np.stack([red,green,blue],axis=2)\n",
    "        img = cv2.resize(img, (self.ImageWidth, self.ImageHeight))\n",
    "        img = img/65536\n",
    "\n",
    "        return img\n",
    "        "
   ]
  },
  {
   "cell_type": "markdown",
   "metadata": {},
   "source": [
    "## 2.1 创建Dataset和Dataloader\n",
    "\n"
   ]
  },
  {
   "cell_type": "code",
   "execution_count": 4,
   "metadata": {},
   "outputs": [],
   "source": [
    "# 获取训练集图像\n",
    "from tkinter import Label\n",
    "\n",
    "\n",
    "TrainImageRoot = config.TrainImageRoot\n",
    "TrainDatPath = []\n",
    "TrainHdrPath = []\n",
    "TrainLabel = []\n",
    "for root, dirs, files in os.walk(TrainImageRoot):\n",
    "    for file in files:\n",
    "        if file.split('.')[-1] == 'hdr' :\n",
    "            TrainHdrPath.append(os.path.join(root, file))\n",
    "        elif file.split('.')[-1] == 'dat' :\n",
    "            TrainDatPath.append(os.path.join(root, file))\n",
    "\n",
    "\n",
    "TrainHdrPath.sort()\n",
    "TrainDatPath.sort()\n",
    "\n",
    "# 根据文件地址创建label\n",
    "for i in TrainHdrPath : \n",
    "    # if i.split(config.SPLIT_SIGN)[-2] == 'danggui1' :\n",
    "    # if i.split(config.SPLIT_SIGN)[-2] == 'gouqi1' :\n",
    "    if i.split(config.SPLIT_SIGN)[-2] == 'jinyinhua1' :\n",
    "        TrainLabel.append(0)\n",
    "    else :\n",
    "        TrainLabel.append(1)\n",
    "\n",
    "TestImageRoot = config.TestImageRoot\n",
    "TestDatPath = []\n",
    "TestHdrPath = []\n",
    "TestLabel = []\n",
    "for root, dirs, files in os.walk(TestImageRoot):\n",
    "    for file in files:\n",
    "        if file.split('.')[-1] == 'hdr' :\n",
    "            TestHdrPath.append(os.path.join(root, file))\n",
    "        elif file.split('.')[-1] == 'dat' :\n",
    "            TestDatPath.append(os.path.join(root, file))\n",
    "\n",
    "\n",
    "TestHdrPath.sort()\n",
    "TestDatPath.sort()\n",
    "\n",
    "# 根据文件地址创建label\n",
    "for i in TestHdrPath : \n",
    "    # if i.split(config.SPLIT_SIGN)[-2] == 'danggui1' :\n",
    "    # if i.split(config.SPLIT_SIGN)[-2] == 'gouqi1' :\n",
    "    if i.split(config.SPLIT_SIGN)[-2] == 'jinyinhua1' :\n",
    "        TestLabel.append(0)\n",
    "    else :\n",
    "        TestLabel.append(1)\n"
   ]
  },
  {
   "cell_type": "markdown",
   "metadata": {},
   "source": [
    "## PCA"
   ]
  },
  {
   "cell_type": "code",
   "execution_count": 5,
   "metadata": {},
   "outputs": [],
   "source": [
    "\n",
    "# # 根据图像数据进行PCA\n",
    "# # 按顺序读取图像\n",
    "# data = np.ones((0,603))\n",
    "# for i in range(len(TrainHdrPath)) :\n",
    "#     hdr,dat = TrainHdrPath[i],TrainDatPath[i]\n",
    "# # for hdr,dat in (TrainHdrPath,TrainDatPath) :\n",
    "#     img = spectral.envi.open(hdr, dat)\n",
    "#     img = img.read_bands(range(img.shape[2])) #读取全部的光谱维度\n",
    "#     img = img.reshape(-1,img.shape[2])\n",
    "#     data = np.vstack([data,img])\n",
    "#     print(data.shape)\n",
    "\n",
    "# pca = PCA(100)\n",
    "# pca.fit(data)\n",
    "\n",
    "# # save pca\n",
    "# torch.save(pca,\"checkpoints/pca/pca100.pth\")\n",
    "\n",
    "# hdr,dat = TrainHdrPath[0],TrainDatPath[0]\n",
    "# img = spectral.envi.open(hdr, dat)\n",
    "# img = img.read_bands(range(img.shape[2])) #读取全部的光谱维度\n",
    "# img = img.reshape(-1,img.shape[2])\n",
    "# img = pca.transform(img)\n",
    "\n",
    "# print(img.shape)\n",
    "\n",
    "# del data # delate data to save space\n",
    "# del pca "
   ]
  },
  {
   "cell_type": "code",
   "execution_count": 6,
   "metadata": {},
   "outputs": [],
   "source": [
    "# load pca\n",
    "# pca = torch.load(\"checkpoints/pca3.pth\")\n",
    "# create dataset\n",
    "# train_dataset = TrainDataset(TrainDatPath,TrainHdrPath,TrainLabel,pca,config.IMG_WIDTH, config.IMG_HIGHT)\n",
    "# test_dataset = TrainDataset(TestDatPath,TestHdrPath,TestLabel,pca ,config.IMG_WIDTH, config.IMG_HIGHT)\n",
    "\n",
    "# create dataset without pca\n",
    "train_dataset = TrainDataset(TrainDatPath,TrainHdrPath,TrainLabel,config.IMG_WIDTH, config.IMG_HIGHT)\n",
    "test_dataset = TrainDataset(TestDatPath,TestHdrPath,TestLabel,config.IMG_WIDTH, config.IMG_HIGHT)\n",
    "\n",
    "\n",
    "\n",
    "# 利用DataLoader生成一个分batch获取数据的可迭代对象\n",
    "train_dataloader = DataLoader(train_dataset, batch_size=40, shuffle=True, num_workers=0)\n",
    "test_dataloader = DataLoader(test_dataset, batch_size=1, shuffle=True, num_workers=0)"
   ]
  },
  {
   "cell_type": "markdown",
   "metadata": {},
   "source": [
    "## 2.2展示一份数据\n",
    "用于验证Dataset返回的一份数据"
   ]
  },
  {
   "cell_type": "code",
   "execution_count": 7,
   "metadata": {},
   "outputs": [
    {
     "name": "stdout",
     "output_type": "stream",
     "text": [
      "(100, 100, 3)\n"
     ]
    },
    {
     "data": {
      "image/png": "[encoded data removed]",
      "text/plain": [
       "<Figure size 1000x1000 with 1 Axes>"
      ]
     },
     "metadata": {},
     "output_type": "display_data"
    }
   ],
   "source": [
    "import random\n",
    "import visualize\n",
    "\n",
    "# Load and display random samples\n",
    "image_id = random.randint(0,len(train_dataset)-1)\n",
    "# image_name = train_dataset.get_class(image_id)\n",
    "image_name = train_dataset.get_class(image_id)\n",
    "img = train_dataset.get_fakeimg(image_id)\n",
    "\n",
    "print(img.shape)\n",
    "\n",
    "visualize.display_images([img],cols = 1,titles = [image_name],cmap = 'gray')\n"
   ]
  },
  {
   "cell_type": "code",
   "execution_count": 8,
   "metadata": {},
   "outputs": [
    {
     "name": "stdout",
     "output_type": "stream",
     "text": [
      "torch.Size([10, 100, 100])\n",
      "tensor([0.])\n",
      "33\n"
     ]
    }
   ],
   "source": [
    "img,label = train_dataset[image_id]\n",
    "print(img.shape)\n",
    "print(label)\n",
    "print(len(train_dataset))"
   ]
  },
  {
   "cell_type": "markdown",
   "metadata": {},
   "source": [
    "# 3.训练\n",
    "训练初始化\n",
    "- 创建模型实例，导入模型参数()\n",
    "- 定义损失函数，实例化损失函数\n",
    "- 定义优化器\n",
    "- 定义训练过程指标记录变量(如何合理的)\n",
    "\n",
    "训练开始\n",
    "- 循环导入Dataloader数据\n",
    "- 初始化优化器\n",
    "- 模型前向传播\n",
    "- 计算损失函数\n",
    "- 损失函数反向传播\n",
    "- 优化器进行优化\n",
    "- 保存损失等相关训练参数\n",
    "\n",
    "训练结束\n",
    "- 保存训练模型，保存过程数据\n",
    "- 绘制训练曲线"
   ]
  },
  {
   "cell_type": "markdown",
   "metadata": {},
   "source": [
    "## 3.1 训练参数定义"
   ]
  },
  {
   "cell_type": "code",
   "execution_count": 9,
   "metadata": {},
   "outputs": [
    {
     "name": "stdout",
     "output_type": "stream",
     "text": [
      "start from scratch, start epoch: 0 end epoch: 499\n"
     ]
    }
   ],
   "source": [
    "# 决定初始化模型的版本号save_code\n",
    "# None表示从零开始训练\n",
    "# 其他数字表示从保存的版本号开始训练保存的版本号开始训练\n",
    "# 从中导入之前的模型和训练曲线，以及开始的epoch\n",
    "# 起始输入版本\n",
    "# start_save_code = \"danggui12_pca10_res50_40\"\n",
    "\n",
    "start_save_code = None\n",
    "# 目标输出版本\n",
    "\n",
    "# 训练epoch数\n",
    "epoch_num = 500\n",
    "# 每隔几个epoch更新一次保存序号\n",
    "save_epoch = 10\n",
    "# 创建模型实例\n",
    "model = MyModel.HSI_CLS_PCA_model(10)\n",
    "if start_save_code == None :\n",
    "    # 初始化训练曲线\n",
    "    all_train_total_loss = []\n",
    "    all_test_total_loss = []\n",
    "    #初始epoch为0\n",
    "    start_epoch = 0\n",
    "    print(\"start from scratch, start epoch:\",start_epoch, \"end epoch:\", start_epoch+epoch_num-1)\n",
    "else :\n",
    "    # 导入模型参数\n",
    "    model.load_state_dict(torch.load(f\"./checkpoints/{start_save_code}_model_param.pth\"))\n",
    "    # 导入训练曲线\n",
    "    model_curve = torch.load(f\"./checkpoints/{start_save_code}_model_curve.pth\")\n",
    "    all_train_total_loss = model_curve[\"all_train_total_loss\"]\n",
    "    all_test_total_loss = model_curve[\"all_test_total_loss\"]\n",
    "    # 初始epoch为训练曲线的长度\n",
    "    start_epoch = len(all_train_total_loss)\n",
    "    print(f\"start from model {start_save_code} start_epoch:\",start_epoch, \"end epoch:\", start_epoch+epoch_num-1)\n",
    "\n",
    "    # 绘制训练过程曲线\n",
    "    plt.figure(figsize=(9,6), dpi=80)\n",
    "    # plt.subplot(121)\n",
    "    plt.title('previews training curve')\n",
    "    plt.plot(all_train_total_loss,label=\"train_loss\")\n",
    "    plt.plot(all_test_total_loss,label=\"test_loss\")\n",
    "    plt.legend(loc='upper right')\n",
    "    plt.xlabel('epoch')\n",
    "\n",
    "save_code = \"jinyinhua14_pca10_res50\"\n",
    "end_save_code = f\"{save_code}_{start_epoch//save_epoch:02d}\"\n"
   ]
  },
  {
   "cell_type": "markdown",
   "metadata": {},
   "source": [
    "## 3.2 开始训练"
   ]
  },
  {
   "cell_type": "code",
   "execution_count": 10,
   "metadata": {},
   "outputs": [
    {
     "data": {
      "image/png": "[encoded data removed]",
      "text/plain": [
       "<Figure size 720x480 with 1 Axes>"
      ]
     },
     "metadata": {},
     "output_type": "display_data"
    },
    {
     "name": "stdout",
     "output_type": "stream",
     "text": [
      "<---------------------------------------------------->\n",
      "epoch: 387.000000\n",
      "epoch train loss = 0.010039, epoch test loss = 0.762044, Time 00:00:17\n",
      "saving checkpoints/jinyinhua14_pca10_res50_38_model_param.pth\n",
      "epoch388 training\n"
     ]
    },
    {
     "name": "stderr",
     "output_type": "stream",
     "text": [
      "  0%|          | 0/1 [00:00<?, ?it/s]"
     ]
    },
    {
     "name": "stderr",
     "output_type": "stream",
     "text": [
      "  0%|          | 0/1 [00:03<?, ?it/s]\n"
     ]
    },
    {
     "ename": "KeyboardInterrupt",
     "evalue": "",
     "output_type": "error",
     "traceback": [
      "\u001b[0;31m---------------------------------------------------------------------------\u001b[0m",
      "\u001b[0;31mKeyboardInterrupt\u001b[0m                         Traceback (most recent call last)",
      "Cell \u001b[0;32mIn [10], line 32\u001b[0m\n\u001b[1;32m     29\u001b[0m model\u001b[38;5;241m.\u001b[39mtrain() \u001b[38;5;66;03m# 模型切换为训练模式，模型参数可以反向传播和梯度下降\u001b[39;00m\n\u001b[1;32m     30\u001b[0m \u001b[38;5;66;03m# 导入Dataloader数据 \u001b[39;00m\n\u001b[0;32m---> 32\u001b[0m \u001b[38;5;28;01mfor\u001b[39;00m index, (img,label) \u001b[38;5;129;01min\u001b[39;00m tqdm(\u001b[38;5;28menumerate\u001b[39m(train_dataloader),total \u001b[38;5;241m=\u001b[39m \u001b[38;5;28mlen\u001b[39m(train_dataloader)):\n\u001b[1;32m     34\u001b[0m     img \u001b[38;5;241m=\u001b[39m img\u001b[38;5;241m.\u001b[39mto(device) \u001b[38;5;66;03m# 训练普通AE\u001b[39;00m\n\u001b[1;32m     35\u001b[0m     label \u001b[38;5;241m=\u001b[39m label\u001b[38;5;241m.\u001b[39mto(device) \n",
      "File \u001b[0;32m~/anaconda3/envs/syj/lib/python3.8/site-packages/tqdm/std.py:1195\u001b[0m, in \u001b[0;36mtqdm.__iter__\u001b[0;34m(self)\u001b[0m\n\u001b[1;32m   1192\u001b[0m time \u001b[39m=\u001b[39m \u001b[39mself\u001b[39m\u001b[39m.\u001b[39m_time\n\u001b[1;32m   1194\u001b[0m \u001b[39mtry\u001b[39;00m:\n\u001b[0;32m-> 1195\u001b[0m     \u001b[39mfor\u001b[39;00m obj \u001b[39min\u001b[39;00m iterable:\n\u001b[1;32m   1196\u001b[0m         \u001b[39myield\u001b[39;00m obj\n\u001b[1;32m   1197\u001b[0m         \u001b[39m# Update and possibly print the progressbar.\u001b[39;00m\n\u001b[1;32m   1198\u001b[0m         \u001b[39m# Note: does not call self.update(1) for speed optimisation.\u001b[39;00m\n",
      "File \u001b[0;32m~/anaconda3/envs/syj/lib/python3.8/site-packages/torch/utils/data/dataloader.py:517\u001b[0m, in \u001b[0;36m_BaseDataLoaderIter.__next__\u001b[0;34m(self)\u001b[0m\n\u001b[1;32m    515\u001b[0m \u001b[39mif\u001b[39;00m \u001b[39mself\u001b[39m\u001b[39m.\u001b[39m_sampler_iter \u001b[39mis\u001b[39;00m \u001b[39mNone\u001b[39;00m:\n\u001b[1;32m    516\u001b[0m     \u001b[39mself\u001b[39m\u001b[39m.\u001b[39m_reset()\n\u001b[0;32m--> 517\u001b[0m data \u001b[39m=\u001b[39m \u001b[39mself\u001b[39;49m\u001b[39m.\u001b[39;49m_next_data()\n\u001b[1;32m    518\u001b[0m \u001b[39mself\u001b[39m\u001b[39m.\u001b[39m_num_yielded \u001b[39m+\u001b[39m\u001b[39m=\u001b[39m \u001b[39m1\u001b[39m\n\u001b[1;32m    519\u001b[0m \u001b[39mif\u001b[39;00m \u001b[39mself\u001b[39m\u001b[39m.\u001b[39m_dataset_kind \u001b[39m==\u001b[39m _DatasetKind\u001b[39m.\u001b[39mIterable \u001b[39mand\u001b[39;00m \\\n\u001b[1;32m    520\u001b[0m         \u001b[39mself\u001b[39m\u001b[39m.\u001b[39m_IterableDataset_len_called \u001b[39mis\u001b[39;00m \u001b[39mnot\u001b[39;00m \u001b[39mNone\u001b[39;00m \u001b[39mand\u001b[39;00m \\\n\u001b[1;32m    521\u001b[0m         \u001b[39mself\u001b[39m\u001b[39m.\u001b[39m_num_yielded \u001b[39m>\u001b[39m \u001b[39mself\u001b[39m\u001b[39m.\u001b[39m_IterableDataset_len_called:\n",
      "File \u001b[0;32m~/anaconda3/envs/syj/lib/python3.8/site-packages/torch/utils/data/dataloader.py:557\u001b[0m, in \u001b[0;36m_SingleProcessDataLoaderIter._next_data\u001b[0;34m(self)\u001b[0m\n\u001b[1;32m    555\u001b[0m \u001b[39mdef\u001b[39;00m \u001b[39m_next_data\u001b[39m(\u001b[39mself\u001b[39m):\n\u001b[1;32m    556\u001b[0m     index \u001b[39m=\u001b[39m \u001b[39mself\u001b[39m\u001b[39m.\u001b[39m_next_index()  \u001b[39m# may raise StopIteration\u001b[39;00m\n\u001b[0;32m--> 557\u001b[0m     data \u001b[39m=\u001b[39m \u001b[39mself\u001b[39;49m\u001b[39m.\u001b[39;49m_dataset_fetcher\u001b[39m.\u001b[39;49mfetch(index)  \u001b[39m# may raise StopIteration\u001b[39;00m\n\u001b[1;32m    558\u001b[0m     \u001b[39mif\u001b[39;00m \u001b[39mself\u001b[39m\u001b[39m.\u001b[39m_pin_memory:\n\u001b[1;32m    559\u001b[0m         data \u001b[39m=\u001b[39m _utils\u001b[39m.\u001b[39mpin_memory\u001b[39m.\u001b[39mpin_memory(data)\n",
      "File \u001b[0;32m~/anaconda3/envs/syj/lib/python3.8/site-packages/torch/utils/data/_utils/fetch.py:44\u001b[0m, in \u001b[0;36m_MapDatasetFetcher.fetch\u001b[0;34m(self, possibly_batched_index)\u001b[0m\n\u001b[1;32m     42\u001b[0m \u001b[39mdef\u001b[39;00m \u001b[39mfetch\u001b[39m(\u001b[39mself\u001b[39m, possibly_batched_index):\n\u001b[1;32m     43\u001b[0m     \u001b[39mif\u001b[39;00m \u001b[39mself\u001b[39m\u001b[39m.\u001b[39mauto_collation:\n\u001b[0;32m---> 44\u001b[0m         data \u001b[39m=\u001b[39m [\u001b[39mself\u001b[39m\u001b[39m.\u001b[39mdataset[idx] \u001b[39mfor\u001b[39;00m idx \u001b[39min\u001b[39;00m possibly_batched_index]\n\u001b[1;32m     45\u001b[0m     \u001b[39melse\u001b[39;00m:\n\u001b[1;32m     46\u001b[0m         data \u001b[39m=\u001b[39m \u001b[39mself\u001b[39m\u001b[39m.\u001b[39mdataset[possibly_batched_index]\n",
      "File \u001b[0;32m~/anaconda3/envs/syj/lib/python3.8/site-packages/torch/utils/data/_utils/fetch.py:44\u001b[0m, in \u001b[0;36m<listcomp>\u001b[0;34m(.0)\u001b[0m\n\u001b[1;32m     42\u001b[0m \u001b[39mdef\u001b[39;00m \u001b[39mfetch\u001b[39m(\u001b[39mself\u001b[39m, possibly_batched_index):\n\u001b[1;32m     43\u001b[0m     \u001b[39mif\u001b[39;00m \u001b[39mself\u001b[39m\u001b[39m.\u001b[39mauto_collation:\n\u001b[0;32m---> 44\u001b[0m         data \u001b[39m=\u001b[39m [\u001b[39mself\u001b[39;49m\u001b[39m.\u001b[39;49mdataset[idx] \u001b[39mfor\u001b[39;00m idx \u001b[39min\u001b[39;00m possibly_batched_index]\n\u001b[1;32m     45\u001b[0m     \u001b[39melse\u001b[39;00m:\n\u001b[1;32m     46\u001b[0m         data \u001b[39m=\u001b[39m \u001b[39mself\u001b[39m\u001b[39m.\u001b[39mdataset[possibly_batched_index]\n",
      "Cell \u001b[0;32mIn [3], line 34\u001b[0m, in \u001b[0;36mTrainDataset.__getitem__\u001b[0;34m(self, idx)\u001b[0m\n\u001b[1;32m     32\u001b[0m img \u001b[38;5;241m=\u001b[39m img\u001b[38;5;241m.\u001b[39mreshape((\u001b[38;5;241m-\u001b[39m\u001b[38;5;241m1\u001b[39m,z)) \u001b[38;5;66;03m# reshape to fit pca transform\u001b[39;00m\n\u001b[1;32m     33\u001b[0m pca \u001b[38;5;241m=\u001b[39m PCA(\u001b[38;5;241m10\u001b[39m) \n\u001b[0;32m---> 34\u001b[0m img \u001b[38;5;241m=\u001b[39m \u001b[43mpca\u001b[49m\u001b[38;5;241;43m.\u001b[39;49m\u001b[43mfit_transform\u001b[49m\u001b[43m(\u001b[49m\u001b[43mimg\u001b[49m\u001b[43m)\u001b[49m \u001b[38;5;66;03m# 主成分分析\u001b[39;00m\n\u001b[1;32m     35\u001b[0m img \u001b[38;5;241m=\u001b[39m img\u001b[38;5;241m.\u001b[39mreshape((x,y,img\u001b[38;5;241m.\u001b[39mshape[\u001b[38;5;241m-\u001b[39m\u001b[38;5;241m1\u001b[39m]))\n\u001b[1;32m     37\u001b[0m img \u001b[38;5;241m=\u001b[39m img\u001b[38;5;241m.\u001b[39mtranspose([\u001b[38;5;241m2\u001b[39m,\u001b[38;5;241m0\u001b[39m,\u001b[38;5;241m1\u001b[39m])\n",
      "File \u001b[0;32m~/anaconda3/envs/syj/lib/python3.8/site-packages/sklearn/decomposition/_pca.py:383\u001b[0m, in \u001b[0;36mPCA.fit_transform\u001b[0;34m(self, X, y)\u001b[0m\n\u001b[1;32m    362\u001b[0m \u001b[39mdef\u001b[39;00m \u001b[39mfit_transform\u001b[39m(\u001b[39mself\u001b[39m, X, y\u001b[39m=\u001b[39m\u001b[39mNone\u001b[39;00m):\n\u001b[1;32m    363\u001b[0m     \u001b[39m\"\"\"Fit the model with X and apply the dimensionality reduction on X.\u001b[39;00m\n\u001b[1;32m    364\u001b[0m \n\u001b[1;32m    365\u001b[0m \u001b[39m    Parameters\u001b[39;00m\n\u001b[0;32m   (...)\u001b[0m\n\u001b[1;32m    381\u001b[0m \u001b[39m    C-ordered array, use 'np.ascontiguousarray'.\u001b[39;00m\n\u001b[1;32m    382\u001b[0m \u001b[39m    \"\"\"\u001b[39;00m\n\u001b[0;32m--> 383\u001b[0m     U, S, Vt \u001b[39m=\u001b[39m \u001b[39mself\u001b[39;49m\u001b[39m.\u001b[39;49m_fit(X)\n\u001b[1;32m    384\u001b[0m     U \u001b[39m=\u001b[39m U[:, :\u001b[39mself\u001b[39m\u001b[39m.\u001b[39mn_components_]\n\u001b[1;32m    386\u001b[0m     \u001b[39mif\u001b[39;00m \u001b[39mself\u001b[39m\u001b[39m.\u001b[39mwhiten:\n\u001b[1;32m    387\u001b[0m         \u001b[39m# X_new = X * V / S * sqrt(n_samples) = U * sqrt(n_samples)\u001b[39;00m\n",
      "File \u001b[0;32m~/anaconda3/envs/syj/lib/python3.8/site-packages/sklearn/decomposition/_pca.py:432\u001b[0m, in \u001b[0;36mPCA._fit\u001b[0;34m(self, X)\u001b[0m\n\u001b[1;32m    430\u001b[0m     \u001b[39mreturn\u001b[39;00m \u001b[39mself\u001b[39m\u001b[39m.\u001b[39m_fit_full(X, n_components)\n\u001b[1;32m    431\u001b[0m \u001b[39melif\u001b[39;00m \u001b[39mself\u001b[39m\u001b[39m.\u001b[39m_fit_svd_solver \u001b[39min\u001b[39;00m [\u001b[39m'\u001b[39m\u001b[39marpack\u001b[39m\u001b[39m'\u001b[39m, \u001b[39m'\u001b[39m\u001b[39mrandomized\u001b[39m\u001b[39m'\u001b[39m]:\n\u001b[0;32m--> 432\u001b[0m     \u001b[39mreturn\u001b[39;00m \u001b[39mself\u001b[39;49m\u001b[39m.\u001b[39;49m_fit_truncated(X, n_components, \u001b[39mself\u001b[39;49m\u001b[39m.\u001b[39;49m_fit_svd_solver)\n\u001b[1;32m    433\u001b[0m \u001b[39melse\u001b[39;00m:\n\u001b[1;32m    434\u001b[0m     \u001b[39mraise\u001b[39;00m \u001b[39mValueError\u001b[39;00m(\u001b[39m\"\u001b[39m\u001b[39mUnrecognized svd_solver=\u001b[39m\u001b[39m'\u001b[39m\u001b[39m{0}\u001b[39;00m\u001b[39m'\u001b[39m\u001b[39m\"\u001b[39m\n\u001b[1;32m    435\u001b[0m                      \u001b[39m\"\u001b[39m\u001b[39m\"\u001b[39m\u001b[39m.\u001b[39mformat(\u001b[39mself\u001b[39m\u001b[39m.\u001b[39m_fit_svd_solver))\n",
      "File \u001b[0;32m~/anaconda3/envs/syj/lib/python3.8/site-packages/sklearn/decomposition/_pca.py:548\u001b[0m, in \u001b[0;36mPCA._fit_truncated\u001b[0;34m(self, X, n_components, svd_solver)\u001b[0m\n\u001b[1;32m    544\u001b[0m     U, Vt \u001b[39m=\u001b[39m svd_flip(U[:, ::\u001b[39m-\u001b[39m\u001b[39m1\u001b[39m], Vt[::\u001b[39m-\u001b[39m\u001b[39m1\u001b[39m])\n\u001b[1;32m    546\u001b[0m \u001b[39melif\u001b[39;00m svd_solver \u001b[39m==\u001b[39m \u001b[39m'\u001b[39m\u001b[39mrandomized\u001b[39m\u001b[39m'\u001b[39m:\n\u001b[1;32m    547\u001b[0m     \u001b[39m# sign flipping is done inside\u001b[39;00m\n\u001b[0;32m--> 548\u001b[0m     U, S, Vt \u001b[39m=\u001b[39m randomized_svd(X, n_components\u001b[39m=\u001b[39;49mn_components,\n\u001b[1;32m    549\u001b[0m                               n_iter\u001b[39m=\u001b[39;49m\u001b[39mself\u001b[39;49m\u001b[39m.\u001b[39;49miterated_power,\n\u001b[1;32m    550\u001b[0m                               flip_sign\u001b[39m=\u001b[39;49m\u001b[39mTrue\u001b[39;49;00m,\n\u001b[1;32m    551\u001b[0m                               random_state\u001b[39m=\u001b[39;49mrandom_state)\n\u001b[1;32m    553\u001b[0m \u001b[39mself\u001b[39m\u001b[39m.\u001b[39mn_samples_, \u001b[39mself\u001b[39m\u001b[39m.\u001b[39mn_features_ \u001b[39m=\u001b[39m n_samples, n_features\n\u001b[1;32m    554\u001b[0m \u001b[39mself\u001b[39m\u001b[39m.\u001b[39mcomponents_ \u001b[39m=\u001b[39m Vt\n",
      "File \u001b[0;32m~/anaconda3/envs/syj/lib/python3.8/site-packages/sklearn/utils/validation.py:63\u001b[0m, in \u001b[0;36m_deprecate_positional_args.<locals>._inner_deprecate_positional_args.<locals>.inner_f\u001b[0;34m(*args, **kwargs)\u001b[0m\n\u001b[1;32m     61\u001b[0m extra_args \u001b[39m=\u001b[39m \u001b[39mlen\u001b[39m(args) \u001b[39m-\u001b[39m \u001b[39mlen\u001b[39m(all_args)\n\u001b[1;32m     62\u001b[0m \u001b[39mif\u001b[39;00m extra_args \u001b[39m<\u001b[39m\u001b[39m=\u001b[39m \u001b[39m0\u001b[39m:\n\u001b[0;32m---> 63\u001b[0m     \u001b[39mreturn\u001b[39;00m f(\u001b[39m*\u001b[39;49margs, \u001b[39m*\u001b[39;49m\u001b[39m*\u001b[39;49mkwargs)\n\u001b[1;32m     65\u001b[0m \u001b[39m# extra_args > 0\u001b[39;00m\n\u001b[1;32m     66\u001b[0m args_msg \u001b[39m=\u001b[39m [\u001b[39m'\u001b[39m\u001b[39m{}\u001b[39;00m\u001b[39m=\u001b[39m\u001b[39m{}\u001b[39;00m\u001b[39m'\u001b[39m\u001b[39m.\u001b[39mformat(name, arg)\n\u001b[1;32m     67\u001b[0m             \u001b[39mfor\u001b[39;00m name, arg \u001b[39min\u001b[39;00m \u001b[39mzip\u001b[39m(kwonly_args[:extra_args],\n\u001b[1;32m     68\u001b[0m                                  args[\u001b[39m-\u001b[39mextra_args:])]\n",
      "File \u001b[0;32m~/anaconda3/envs/syj/lib/python3.8/site-packages/sklearn/utils/extmath.py:348\u001b[0m, in \u001b[0;36mrandomized_svd\u001b[0;34m(M, n_components, n_oversamples, n_iter, power_iteration_normalizer, transpose, flip_sign, random_state)\u001b[0m\n\u001b[1;32m    344\u001b[0m \u001b[39mif\u001b[39;00m transpose:\n\u001b[1;32m    345\u001b[0m     \u001b[39m# this implementation is a bit faster with smaller shape[1]\u001b[39;00m\n\u001b[1;32m    346\u001b[0m     M \u001b[39m=\u001b[39m M\u001b[39m.\u001b[39mT\n\u001b[0;32m--> 348\u001b[0m Q \u001b[39m=\u001b[39m randomized_range_finder(\n\u001b[1;32m    349\u001b[0m     M, size\u001b[39m=\u001b[39;49mn_random, n_iter\u001b[39m=\u001b[39;49mn_iter,\n\u001b[1;32m    350\u001b[0m     power_iteration_normalizer\u001b[39m=\u001b[39;49mpower_iteration_normalizer,\n\u001b[1;32m    351\u001b[0m     random_state\u001b[39m=\u001b[39;49mrandom_state)\n\u001b[1;32m    353\u001b[0m \u001b[39m# project M to the (k + p) dimensional space using the basis vectors\u001b[39;00m\n\u001b[1;32m    354\u001b[0m B \u001b[39m=\u001b[39m safe_sparse_dot(Q\u001b[39m.\u001b[39mT, M)\n",
      "File \u001b[0;32m~/anaconda3/envs/syj/lib/python3.8/site-packages/sklearn/utils/validation.py:63\u001b[0m, in \u001b[0;36m_deprecate_positional_args.<locals>._inner_deprecate_positional_args.<locals>.inner_f\u001b[0;34m(*args, **kwargs)\u001b[0m\n\u001b[1;32m     61\u001b[0m extra_args \u001b[39m=\u001b[39m \u001b[39mlen\u001b[39m(args) \u001b[39m-\u001b[39m \u001b[39mlen\u001b[39m(all_args)\n\u001b[1;32m     62\u001b[0m \u001b[39mif\u001b[39;00m extra_args \u001b[39m<\u001b[39m\u001b[39m=\u001b[39m \u001b[39m0\u001b[39m:\n\u001b[0;32m---> 63\u001b[0m     \u001b[39mreturn\u001b[39;00m f(\u001b[39m*\u001b[39;49margs, \u001b[39m*\u001b[39;49m\u001b[39m*\u001b[39;49mkwargs)\n\u001b[1;32m     65\u001b[0m \u001b[39m# extra_args > 0\u001b[39;00m\n\u001b[1;32m     66\u001b[0m args_msg \u001b[39m=\u001b[39m [\u001b[39m'\u001b[39m\u001b[39m{}\u001b[39;00m\u001b[39m=\u001b[39m\u001b[39m{}\u001b[39;00m\u001b[39m'\u001b[39m\u001b[39m.\u001b[39mformat(name, arg)\n\u001b[1;32m     67\u001b[0m             \u001b[39mfor\u001b[39;00m name, arg \u001b[39min\u001b[39;00m \u001b[39mzip\u001b[39m(kwonly_args[:extra_args],\n\u001b[1;32m     68\u001b[0m                                  args[\u001b[39m-\u001b[39mextra_args:])]\n",
      "File \u001b[0;32m~/anaconda3/envs/syj/lib/python3.8/site-packages/sklearn/utils/extmath.py:233\u001b[0m, in \u001b[0;36mrandomized_range_finder\u001b[0;34m(A, size, n_iter, power_iteration_normalizer, random_state)\u001b[0m\n\u001b[1;32m    231\u001b[0m     Q \u001b[39m=\u001b[39m safe_sparse_dot(A\u001b[39m.\u001b[39mT, Q)\n\u001b[1;32m    232\u001b[0m \u001b[39melif\u001b[39;00m power_iteration_normalizer \u001b[39m==\u001b[39m \u001b[39m'\u001b[39m\u001b[39mLU\u001b[39m\u001b[39m'\u001b[39m:\n\u001b[0;32m--> 233\u001b[0m     Q, _ \u001b[39m=\u001b[39m linalg\u001b[39m.\u001b[39;49mlu(safe_sparse_dot(A, Q), permute_l\u001b[39m=\u001b[39;49m\u001b[39mTrue\u001b[39;49;00m)\n\u001b[1;32m    234\u001b[0m     Q, _ \u001b[39m=\u001b[39m linalg\u001b[39m.\u001b[39mlu(safe_sparse_dot(A\u001b[39m.\u001b[39mT, Q), permute_l\u001b[39m=\u001b[39m\u001b[39mTrue\u001b[39;00m)\n\u001b[1;32m    235\u001b[0m \u001b[39melif\u001b[39;00m power_iteration_normalizer \u001b[39m==\u001b[39m \u001b[39m'\u001b[39m\u001b[39mQR\u001b[39m\u001b[39m'\u001b[39m:\n",
      "File \u001b[0;32m~/anaconda3/envs/syj/lib/python3.8/site-packages/scipy/linalg/_decomp_lu.py:216\u001b[0m, in \u001b[0;36mlu\u001b[0;34m(a, permute_l, overwrite_a, check_finite)\u001b[0m\n\u001b[1;32m    214\u001b[0m overwrite_a \u001b[39m=\u001b[39m overwrite_a \u001b[39mor\u001b[39;00m (_datacopied(a1, a))\n\u001b[1;32m    215\u001b[0m flu, \u001b[39m=\u001b[39m get_flinalg_funcs((\u001b[39m'\u001b[39m\u001b[39mlu\u001b[39m\u001b[39m'\u001b[39m,), (a1,))\n\u001b[0;32m--> 216\u001b[0m p, l, u, info \u001b[39m=\u001b[39m flu(a1, permute_l\u001b[39m=\u001b[39;49mpermute_l, overwrite_a\u001b[39m=\u001b[39;49moverwrite_a)\n\u001b[1;32m    217\u001b[0m \u001b[39mif\u001b[39;00m info \u001b[39m<\u001b[39m \u001b[39m0\u001b[39m:\n\u001b[1;32m    218\u001b[0m     \u001b[39mraise\u001b[39;00m \u001b[39mValueError\u001b[39;00m(\u001b[39m'\u001b[39m\u001b[39millegal value in \u001b[39m\u001b[39m%d\u001b[39;00m\u001b[39mth argument of \u001b[39m\u001b[39m'\u001b[39m\n\u001b[1;32m    219\u001b[0m                      \u001b[39m'\u001b[39m\u001b[39minternal lu.getrf\u001b[39m\u001b[39m'\u001b[39m \u001b[39m%\u001b[39m \u001b[39m-\u001b[39minfo)\n",
      "\u001b[0;31mKeyboardInterrupt\u001b[0m: "
     ]
    }
   ],
   "source": [
    "\n",
    "# device = torch.device('cuda' if torch.cuda.is_available() else 'cpu')\n",
    "\n",
    "if sys.platform == \"win32\" :\n",
    "    device = torch.device('cuda' if torch.cuda.is_available() else 'cpu')\n",
    "elif sys.platform == \"linux\" :\n",
    "    os.environ[\"CUDA_VISIBLE_DEVICES\"] = \"1\"\n",
    "    device = torch.device('cuda' if torch.cuda.is_available() else 'cpu')\n",
    "\n",
    "\n",
    "# if torch.cuda.is_available() :\n",
    "#     torch.cuda.empty_cache() # 释放显存\n",
    "\n",
    "model = model.to(device)\n",
    "# 定义损失函数   这里只有两类，采用二分类常用的损失函数BCE\n",
    "criterion = nn.BCELoss().to(device)\n",
    "# criterion = nn.MSELoss().to(device)\n",
    "# criterion2 = loss.SSIM().to(device)\n",
    "# 定义优化器\n",
    "optimizer = optim.Adam(model.parameters(), lr=0.000001)\n",
    "\n",
    "# 记录开始时间\n",
    "prev_time = datetime.now()\n",
    "\n",
    "for epo in range(start_epoch, start_epoch + epoch_num):\n",
    "    # 训练开始\n",
    "    train_loss = 0 # 记录训练参数\n",
    "    \n",
    "    print(f\"epoch{epo} training\")\n",
    "    model.train() # 模型切换为训练模式，模型参数可以反向传播和梯度下降\n",
    "    # 导入Dataloader数据 \n",
    "    \n",
    "    for index, (img,label) in tqdm(enumerate(train_dataloader),total = len(train_dataloader)):\n",
    "\n",
    "        img = img.to(device) # 训练普通AE\n",
    "        label = label.to(device) \n",
    "        \n",
    "        # 初始化优化器\n",
    "        optimizer.zero_grad()\n",
    "        # 前向传播\n",
    "        pred = model(img)\n",
    "        loss = criterion(pred,label)\n",
    "\n",
    "        # 损失函数前向传播\n",
    "        loss.backward()     # 需要计算导数，则调用backward\n",
    "        # 存储训练参数\n",
    "        train_loss += loss.item()    # .item()返回一个具体的值，一般用于loss和acc\n",
    "\n",
    "        optimizer.step()\n",
    "\n",
    "    # 验证\n",
    "    test_loss = 0\n",
    "    print(f\"epoch{epo} evaluating\")\n",
    "    model.eval() # 模型为验证模式\n",
    "    with torch.no_grad(): # 不做梯度下降\n",
    "        for index, (img, label) in tqdm(enumerate(test_dataloader),total = len(test_dataloader)):\n",
    "            \n",
    "            img = img.to(device)\n",
    "            label = label.to(device)\n",
    "            # 初始化优化器\n",
    "            optimizer.zero_grad()\n",
    "            pred = model(img)\n",
    "            # 计算损失函数\n",
    "            loss = criterion(pred, label)\n",
    "            # 记录相关损失\n",
    "            test_loss += loss.item()\n",
    "\n",
    "\n",
    "    #保存当前epoch的loss以供可视化训练曲线\n",
    "    #放在一起是为了防止在运行完Train后掉线，使得曲线长度不一致\n",
    "    all_train_total_loss.append(train_loss/len(train_dataloader))\n",
    "    all_test_total_loss.append(test_loss/len(test_dataloader))\n",
    "\n",
    "    cur_time = datetime.now()\n",
    "    h, remainder = divmod((cur_time - prev_time).seconds, 3600)\n",
    "    m, s = divmod(remainder, 60)\n",
    "    time_str = \"Time %02d:%02d:%02d\" % (h, m, s)\n",
    "    prev_time = cur_time\n",
    "\n",
    "    visualize.clear_output()# 清除上个epoch的图像输出\n",
    "\n",
    "    # 绘制训练过程曲线\n",
    "    plt.figure(figsize=(9,6), dpi=80)\n",
    "    # plt.subplot(121)\n",
    "    plt.title('total')\n",
    "    plt.plot(all_train_total_loss,label=\"train_loss\")\n",
    "    plt.plot(all_test_total_loss,label=\"test_loss\")\n",
    "    plt.legend(loc='upper right')\n",
    "    plt.xlabel('epoch')\n",
    "    plt.show()\n",
    "\n",
    "    # 显示当前epoch训练结果\n",
    "    print('<---------------------------------------------------->')\n",
    "    print('epoch: %f' % epo)\n",
    "    print('epoch train loss = %f, epoch test loss = %f, %s'\n",
    "            % (train_loss/len(train_dataloader), test_loss/len(test_dataloader), time_str))\n",
    "\n",
    "    # 每5个epoch存储一次模型\n",
    "    if np.mod(epo, save_epoch) == 0:\n",
    "        # 只存储模型参数\n",
    "        end_save_code = f\"{save_code}_{epo//save_epoch:02d}\"\n",
    "    torch.save(model.state_dict(), f'checkpoints/{end_save_code}_model_param.pth')\n",
    "    torch.save({\"all_train_total_loss\":all_train_total_loss,\"all_test_total_loss\":all_test_total_loss}, \\\n",
    "        f'checkpoints/{end_save_code}_model_curve.pth')\n",
    "    print(f'saving checkpoints/{end_save_code}_model_param.pth')\n"
   ]
  },
  {
   "cell_type": "markdown",
   "metadata": {},
   "source": [
    "# 4.实验结果演示\n",
    "待改进，感觉现在太粗糙了"
   ]
  },
  {
   "cell_type": "code",
   "execution_count": 28,
   "metadata": {},
   "outputs": [
    {
     "ename": "RuntimeError",
     "evalue": "Error(s) in loading state_dict for HSI_CLS_PCA_model:\n\tMissing key(s) in state_dict: \"f0.0.weight\", \"f0.0.bias\", \"f0.1.weight\", \"f0.1.bias\", \"f0.1.running_mean\", \"f0.1.running_var\", \"base_model.conv1.weight\", \"base_model.bn1.weight\", \"base_model.bn1.bias\", \"base_model.bn1.running_mean\", \"base_model.bn1.running_var\", \"base_model.layer1.0.conv1.weight\", \"base_model.layer1.0.bn1.weight\", \"base_model.layer1.0.bn1.bias\", \"base_model.layer1.0.bn1.running_mean\", \"base_model.layer1.0.bn1.running_var\", \"base_model.layer1.0.conv2.weight\", \"base_model.layer1.0.bn2.weight\", \"base_model.layer1.0.bn2.bias\", \"base_model.layer1.0.bn2.running_mean\", \"base_model.layer1.0.bn2.running_var\", \"base_model.layer1.0.conv3.weight\", \"base_model.layer1.0.bn3.weight\", \"base_model.layer1.0.bn3.bias\", \"base_model.layer1.0.bn3.running_mean\", \"base_model.layer1.0.bn3.running_var\", \"base_model.layer1.0.downsample.0.weight\", \"base_model.layer1.0.downsample.1.weight\", \"base_model.layer1.0.downsample.1.bias\", \"base_model.layer1.0.downsample.1.running_mean\", \"base_model.layer1.0.downsample.1.running_var\", \"base_model.layer1.1.conv1.weight\", \"base_model.layer1.1.bn1.weight\", \"base_model.layer1.1.bn1.bias\", \"base_model.layer1.1.bn1.running_mean\", \"base_model.layer1.1.bn1.running_var\", \"base_model.layer1.1.conv2.weight\", \"base_model.layer1.1.bn2.weight\", \"base_model.layer1.1.bn2.bias\", \"base_model.layer1.1.bn2.running_mean\", \"base_model.layer1.1.bn2.running_var\", \"base_model.layer1.1.conv3.weight\", \"base_model.layer1.1.bn3.weight\", \"base_model.layer1.1.bn3.bias\", \"base_model.layer1.1.bn3.running_mean\", \"base_model.layer1.1.bn3.running_var\", \"base_model.layer1.2.conv1.weight\", \"base_model.layer1.2.bn1.weight\", \"base_model.layer1.2.bn1.bias\", \"base_model.layer1.2.bn1.running_mean\", \"base_model.layer1.2.bn1.running_var\", \"base_model.layer1.2.conv2.weight\", \"base_model.layer1.2.bn2.weight\", \"base_model.layer1.2.bn2.bias\", \"base_model.layer1.2.bn2.running_mean\", \"base_model.layer1.2.bn2.running_var\", \"base_model.layer1.2.conv3.weight\", \"base_model.layer1.2.bn3.weight\", \"base_model.layer1.2.bn3.bias\", \"base_model.layer1.2.bn3.running_mean\", \"base_model.layer1.2.bn3.running_var\", \"base_model.layer2.0.conv1.weight\", \"base_model.layer2.0.bn1.weight\", \"base_model.layer2.0.bn1.bias\", \"base_model.layer2.0.bn1.running_mean\", \"base_model.layer2.0.bn1.running_var\", \"base_model.layer2.0.conv2.weight\", \"base_model.layer2.0.bn2.weight\", \"base_model.layer2.0.bn2.bias\", \"base_model.layer2.0.bn2.running_mean\", \"base_model.layer2.0.bn2.running_var\", \"base_model.layer2.0.conv3.weight\", \"base_model.layer2.0.bn3.weight\", \"base_model.layer2.0.bn3.bias\", \"base_model.layer2.0.bn3.running_mean\", \"base_model.layer2.0.bn3.running_var\", \"base_model.layer2.0.downsample.0.weight\", \"base_model.layer2.0.downsample.1.weight\", \"base_model.layer2.0.downsample.1.bias\", \"base_model.layer2.0.downsample.1.running_mean\", \"base_model.layer2.0.downsample.1.running_var\", \"base_model.layer2.1.conv1.weight\", \"base_model.layer2.1.bn1.weight\", \"base_model.layer2.1.bn1.bias\", \"base_model.layer2.1.bn1.running_mean\", \"base_model.layer2.1.bn1.running_var\", \"base_model.layer2.1.conv2.weight\", \"base_model.layer2.1.bn2.weight\", \"base_model.layer2.1.bn2.bias\", \"base_model.layer2.1.bn2.running_mean\", \"base_model.layer2.1.bn2.running_var\", \"base_model.layer2.1.conv3.weight\", \"base_model.layer2.1.bn3.weight\", \"base_model.layer2.1.bn3.bias\", \"base_model.layer2.1.bn3.running_mean\", \"base_model.layer2.1.bn3.running_var\", \"base_model.layer2.2.conv1.weight\", \"base_model.layer2.2.bn1.weight\", \"base_model.layer2.2.bn1.bias\", \"base_model.layer2.2.bn1.running_mean\", \"base_model.layer2.2.bn1.running_var\", \"base_model.layer2.2.conv2.weight\", \"base_model.layer2.2.bn2.weight\", \"base_model.layer2.2.bn2.bias\", \"base_model.layer2.2.bn2.running_mean\", \"base_model.layer2.2.bn2.running_var\", \"base_model.layer2.2.conv3.weight\", \"base_model.layer2.2.bn3.weight\", \"base_model.layer2.2.bn3.bias\", \"base_model.layer2.2.bn3.running_mean\", \"base_model.layer2.2.bn3.running_var\", \"base_model.layer2.3.conv1.weight\", \"base_model.layer2.3.bn1.weight\", \"base_model.layer2.3.bn1.bias\", \"base_model.layer2.3.bn1.running_mean\", \"base_model.layer2.3.bn1.running_var\", \"base_model.layer2.3.conv2.weight\", \"base_model.layer2.3.bn2.weight\", \"base_model.layer2.3.bn2.bias\", \"base_model.layer2.3.bn2.running_mean\", \"base_model.layer2.3.bn2.running_var\", \"base_model.layer2.3.conv3.weight\", \"base_model.layer2.3.bn3.weight\", \"base_model.layer2.3.bn3.bias\", \"base_model.layer2.3.bn3.running_mean\", \"base_model.layer2.3.bn3.running_var\", \"base_model.layer3.0.conv1.weight\", \"base_model.layer3.0.bn1.weight\", \"base_model.layer3.0.bn1.bias\", \"base_model.layer3.0.bn1.running_mean\", \"base_model.layer3.0.bn1.running_var\", \"base_model.layer3.0.conv2.weight\", \"base_model.layer3.0.bn2.weight\", \"base_model.layer3.0.bn2.bias\", \"base_model.layer3.0.bn2.running_mean\", \"base_model.layer3.0.bn2.running_var\", \"base_model.layer3.0.conv3.weight\", \"base_model.layer3.0.bn3.weight\", \"base_model.layer3.0.bn3.bias\", \"base_model.layer3.0.bn3.running_mean\", \"base_model.layer3.0.bn3.running_var\", \"base_model.layer3.0.downsample.0.weight\", \"base_model.layer3.0.downsample.1.weight\", \"base_model.layer3.0.downsample.1.bias\", \"base_model.layer3.0.downsample.1.running_mean\", \"base_model.layer3.0.downsample.1.running_var\", \"base_model.layer3.1.conv1.weight\", \"base_model.layer3.1.bn1.weight\", \"base_model.layer3.1.bn1.bias\", \"base_model.layer3.1.bn1.running_mean\", \"base_model.layer3.1.bn1.running_var\", \"base_model.layer3.1.conv2.weight\", \"base_model.layer3.1.bn2.weight\", \"base_model.layer3.1.bn2.bias\", \"base_model.layer3.1.bn2.running_mean\", \"base_model.layer3.1.bn2.running_var\", \"base_model.layer3.1.conv3.weight\", \"base_model.layer3.1.bn3.weight\", \"base_model.layer3.1.bn3.bias\", \"base_model.layer3.1.bn3.running_mean\", \"base_model.layer3.1.bn3.running_var\", \"base_model.layer3.2.conv1.weight\", \"base_model.layer3.2.bn1.weight\", \"base_model.layer3.2.bn1.bias\", \"base_model.layer3.2.bn1.running_mean\", \"base_model.layer3.2.bn1.running_var\", \"base_model.layer3.2.conv2.weight\", \"base_model.layer3.2.bn2.weight\", \"base_model.layer3.2.bn2.bias\", \"base_model.layer3.2.bn2.running_mean\", \"base_model.layer3.2.bn2.running_var\", \"base_model.layer3.2.conv3.weight\", \"base_model.layer3.2.bn3.weight\", \"base_model.layer3.2.bn3.bias\", \"base_model.layer3.2.bn3.running_mean\", \"base_model.layer3.2.bn3.running_var\", \"base_model.layer3.3.conv1.weight\", \"base_model.layer3.3.bn1.weight\", \"base_model.layer3.3.bn1.bias\", \"base_model.layer3.3.bn1.running_mean\", \"base_model.layer3.3.bn1.running_var\", \"base_model.layer3.3.conv2.weight\", \"base_model.layer3.3.bn2.weight\", \"base_model.layer3.3.bn2.bias\", \"base_model.layer3.3.bn2.running_mean\", \"base_model.layer3.3.bn2.running_var\", \"base_model.layer3.3.conv3.weight\", \"base_model.layer3.3.bn3.weight\", \"base_model.layer3.3.bn3.bias\", \"base_model.layer3.3.bn3.running_mean\", \"base_model.layer3.3.bn3.running_var\", \"base_model.layer3.4.conv1.weight\", \"base_model.layer3.4.bn1.weight\", \"base_model.layer3.4.bn1.bias\", \"base_model.layer3.4.bn1.running_mean\", \"base_model.layer3.4.bn1.running_var\", \"base_model.layer3.4.conv2.weight\", \"base_model.layer3.4.bn2.weight\", \"base_model.layer3.4.bn2.bias\", \"base_model.layer3.4.bn2.running_mean\", \"base_model.layer3.4.bn2.running_var\", \"base_model.layer3.4.conv3.weight\", \"base_model.layer3.4.bn3.weight\", \"base_model.layer3.4.bn3.bias\", \"base_model.layer3.4.bn3.running_mean\", \"base_model.layer3.4.bn3.running_var\", \"base_model.layer3.5.conv1.weight\", \"base_model.layer3.5.bn1.weight\", \"base_model.layer3.5.bn1.bias\", \"base_model.layer3.5.bn1.running_mean\", \"base_model.layer3.5.bn1.running_var\", \"base_model.layer3.5.conv2.weight\", \"base_model.layer3.5.bn2.weight\", \"base_model.layer3.5.bn2.bias\", \"base_model.layer3.5.bn2.running_mean\", \"base_model.layer3.5.bn2.running_var\", \"base_model.layer3.5.conv3.weight\", \"base_model.layer3.5.bn3.weight\", \"base_model.layer3.5.bn3.bias\", \"base_model.layer3.5.bn3.running_mean\", \"base_model.layer3.5.bn3.running_var\", \"base_model.layer4.0.conv1.weight\", \"base_model.layer4.0.bn1.weight\", \"base_model.layer4.0.bn1.bias\", \"base_model.layer4.0.bn1.running_mean\", \"base_model.layer4.0.bn1.running_var\", \"base_model.layer4.0.conv2.weight\", \"base_model.layer4.0.bn2.weight\", \"base_model.layer4.0.bn2.bias\", \"base_model.layer4.0.bn2.running_mean\", \"base_model.layer4.0.bn2.running_var\", \"base_model.layer4.0.conv3.weight\", \"base_model.layer4.0.bn3.weight\", \"base_model.layer4.0.bn3.bias\", \"base_model.layer4.0.bn3.running_mean\", \"base_model.layer4.0.bn3.running_var\", \"base_model.layer4.0.downsample.0.weight\", \"base_model.layer4.0.downsample.1.weight\", \"base_model.layer4.0.downsample.1.bias\", \"base_model.layer4.0.downsample.1.running_mean\", \"base_model.layer4.0.downsample.1.running_var\", \"base_model.layer4.1.conv1.weight\", \"base_model.layer4.1.bn1.weight\", \"base_model.layer4.1.bn1.bias\", \"base_model.layer4.1.bn1.running_mean\", \"base_model.layer4.1.bn1.running_var\", \"base_model.layer4.1.conv2.weight\", \"base_model.layer4.1.bn2.weight\", \"base_model.layer4.1.bn2.bias\", \"base_model.layer4.1.bn2.running_mean\", \"base_model.layer4.1.bn2.running_var\", \"base_model.layer4.1.conv3.weight\", \"base_model.layer4.1.bn3.weight\", \"base_model.layer4.1.bn3.bias\", \"base_model.layer4.1.bn3.running_mean\", \"base_model.layer4.1.bn3.running_var\", \"base_model.layer4.2.conv1.weight\", \"base_model.layer4.2.bn1.weight\", \"base_model.layer4.2.bn1.bias\", \"base_model.layer4.2.bn1.running_mean\", \"base_model.layer4.2.bn1.running_var\", \"base_model.layer4.2.conv2.weight\", \"base_model.layer4.2.bn2.weight\", \"base_model.layer4.2.bn2.bias\", \"base_model.layer4.2.bn2.running_mean\", \"base_model.layer4.2.bn2.running_var\", \"base_model.layer4.2.conv3.weight\", \"base_model.layer4.2.bn3.weight\", \"base_model.layer4.2.bn3.bias\", \"base_model.layer4.2.bn3.running_mean\", \"base_model.layer4.2.bn3.running_var\", \"base_model.fc.weight\", \"base_model.fc.bias\", \"fc.weight\", \"fc.bias\". \n\tUnexpected key(s) in state_dict: \"all_train_total_loss\", \"all_test_total_loss\". ",
     "output_type": "error",
     "traceback": [
      "\u001b[0;31m---------------------------------------------------------------------------\u001b[0m",
      "\u001b[0;31mRuntimeError\u001b[0m                              Traceback (most recent call last)",
      "Cell \u001b[0;32mIn [28], line 6\u001b[0m\n\u001b[1;32m      2\u001b[0m \u001b[38;5;28;01mfrom\u001b[39;00m \u001b[38;5;21;01msklearn\u001b[39;00m\u001b[38;5;21;01m.\u001b[39;00m\u001b[38;5;21;01mmetrics\u001b[39;00m \u001b[38;5;28;01mimport\u001b[39;00m auc\n\u001b[1;32m      5\u001b[0m model \u001b[38;5;241m=\u001b[39m MyModel\u001b[38;5;241m.\u001b[39mHSI_CLS_PCA_model(\u001b[38;5;241m10\u001b[39m)\n\u001b[0;32m----> 6\u001b[0m \u001b[43mmodel\u001b[49m\u001b[38;5;241;43m.\u001b[39;49m\u001b[43mload_state_dict\u001b[49m\u001b[43m(\u001b[49m\u001b[43mtorch\u001b[49m\u001b[38;5;241;43m.\u001b[39;49m\u001b[43mload\u001b[49m\u001b[43m(\u001b[49m\u001b[38;5;124;43mr\u001b[39;49m\u001b[38;5;124;43m'\u001b[39;49m\u001b[38;5;124;43mcheckpoints/gouqi12_pca10_res50_04_model_curve.pth\u001b[39;49m\u001b[38;5;124;43m'\u001b[39;49m\u001b[43m)\u001b[49m\u001b[43m)\u001b[49m\n\u001b[1;32m      7\u001b[0m model\u001b[38;5;241m.\u001b[39meval()\n\u001b[1;32m      8\u001b[0m \u001b[38;5;28;01mwith\u001b[39;00m torch\u001b[38;5;241m.\u001b[39mno_grad():\n",
      "File \u001b[0;32m~/anaconda3/envs/syj/lib/python3.8/site-packages/torch/nn/modules/module.py:1223\u001b[0m, in \u001b[0;36mModule.load_state_dict\u001b[0;34m(self, state_dict, strict)\u001b[0m\n\u001b[1;32m   1218\u001b[0m         error_msgs\u001b[39m.\u001b[39minsert(\n\u001b[1;32m   1219\u001b[0m             \u001b[39m0\u001b[39m, \u001b[39m'\u001b[39m\u001b[39mMissing key(s) in state_dict: \u001b[39m\u001b[39m{}\u001b[39;00m\u001b[39m. \u001b[39m\u001b[39m'\u001b[39m\u001b[39m.\u001b[39mformat(\n\u001b[1;32m   1220\u001b[0m                 \u001b[39m'\u001b[39m\u001b[39m, \u001b[39m\u001b[39m'\u001b[39m\u001b[39m.\u001b[39mjoin(\u001b[39m'\u001b[39m\u001b[39m\"\u001b[39m\u001b[39m{}\u001b[39;00m\u001b[39m\"\u001b[39m\u001b[39m'\u001b[39m\u001b[39m.\u001b[39mformat(k) \u001b[39mfor\u001b[39;00m k \u001b[39min\u001b[39;00m missing_keys)))\n\u001b[1;32m   1222\u001b[0m \u001b[39mif\u001b[39;00m \u001b[39mlen\u001b[39m(error_msgs) \u001b[39m>\u001b[39m \u001b[39m0\u001b[39m:\n\u001b[0;32m-> 1223\u001b[0m     \u001b[39mraise\u001b[39;00m \u001b[39mRuntimeError\u001b[39;00m(\u001b[39m'\u001b[39m\u001b[39mError(s) in loading state_dict for \u001b[39m\u001b[39m{}\u001b[39;00m\u001b[39m:\u001b[39m\u001b[39m\\n\u001b[39;00m\u001b[39m\\t\u001b[39;00m\u001b[39m{}\u001b[39;00m\u001b[39m'\u001b[39m\u001b[39m.\u001b[39mformat(\n\u001b[1;32m   1224\u001b[0m                        \u001b[39mself\u001b[39m\u001b[39m.\u001b[39m\u001b[39m__class__\u001b[39m\u001b[39m.\u001b[39m\u001b[39m__name__\u001b[39m, \u001b[39m\"\u001b[39m\u001b[39m\\n\u001b[39;00m\u001b[39m\\t\u001b[39;00m\u001b[39m\"\u001b[39m\u001b[39m.\u001b[39mjoin(error_msgs)))\n\u001b[1;32m   1225\u001b[0m \u001b[39mreturn\u001b[39;00m _IncompatibleKeys(missing_keys, unexpected_keys)\n",
      "\u001b[0;31mRuntimeError\u001b[0m: Error(s) in loading state_dict for HSI_CLS_PCA_model:\n\tMissing key(s) in state_dict: \"f0.0.weight\", \"f0.0.bias\", \"f0.1.weight\", \"f0.1.bias\", \"f0.1.running_mean\", \"f0.1.running_var\", \"base_model.conv1.weight\", \"base_model.bn1.weight\", \"base_model.bn1.bias\", \"base_model.bn1.running_mean\", \"base_model.bn1.running_var\", \"base_model.layer1.0.conv1.weight\", \"base_model.layer1.0.bn1.weight\", \"base_model.layer1.0.bn1.bias\", \"base_model.layer1.0.bn1.running_mean\", \"base_model.layer1.0.bn1.running_var\", \"base_model.layer1.0.conv2.weight\", \"base_model.layer1.0.bn2.weight\", \"base_model.layer1.0.bn2.bias\", \"base_model.layer1.0.bn2.running_mean\", \"base_model.layer1.0.bn2.running_var\", \"base_model.layer1.0.conv3.weight\", \"base_model.layer1.0.bn3.weight\", \"base_model.layer1.0.bn3.bias\", \"base_model.layer1.0.bn3.running_mean\", \"base_model.layer1.0.bn3.running_var\", \"base_model.layer1.0.downsample.0.weight\", \"base_model.layer1.0.downsample.1.weight\", \"base_model.layer1.0.downsample.1.bias\", \"base_model.layer1.0.downsample.1.running_mean\", \"base_model.layer1.0.downsample.1.running_var\", \"base_model.layer1.1.conv1.weight\", \"base_model.layer1.1.bn1.weight\", \"base_model.layer1.1.bn1.bias\", \"base_model.layer1.1.bn1.running_mean\", \"base_model.layer1.1.bn1.running_var\", \"base_model.layer1.1.conv2.weight\", \"base_model.layer1.1.bn2.weight\", \"base_model.layer1.1.bn2.bias\", \"base_model.layer1.1.bn2.running_mean\", \"base_model.layer1.1.bn2.running_var\", \"base_model.layer1.1.conv3.weight\", \"base_model.layer1.1.bn3.weight\", \"base_model.layer1.1.bn3.bias\", \"base_model.layer1.1.bn3.running_mean\", \"base_model.layer1.1.bn3.running_var\", \"base_model.layer1.2.conv1.weight\", \"base_model.layer1.2.bn1.weight\", \"base_model.layer1.2.bn1.bias\", \"base_model.layer1.2.bn1.running_mean\", \"base_model.layer1.2.bn1.running_var\", \"base_model.layer1.2.conv2.weight\", \"base_model.layer1.2.bn2.weight\", \"base_model.layer1.2.bn2.bias\", \"base_model.layer1.2.bn2.running_mean\", \"base_model.layer1.2.bn2.running_var\", \"base_model.layer1.2.conv3.weight\", \"base_model.layer1.2.bn3.weight\", \"base_model.layer1.2.bn3.bias\", \"base_model.layer1.2.bn3.running_mean\", \"base_model.layer1.2.bn3.running_var\", \"base_model.layer2.0.conv1.weight\", \"base_model.layer2.0.bn1.weight\", \"base_model.layer2.0.bn1.bias\", \"base_model.layer2.0.bn1.running_mean\", \"base_model.layer2.0.bn1.running_var\", \"base_model.layer2.0.conv2.weight\", \"base_model.layer2.0.bn2.weight\", \"base_model.layer2.0.bn2.bias\", \"base_model.layer2.0.bn2.running_mean\", \"base_model.layer2.0.bn2.running_var\", \"base_model.layer2.0.conv3.weight\", \"base_model.layer2.0.bn3.weight\", \"base_model.layer2.0.bn3.bias\", \"base_model.layer2.0.bn3.running_mean\", \"base_model.layer2.0.bn3.running_var\", \"base_model.layer2.0.downsample.0.weight\", \"base_model.layer2.0.downsample.1.weight\", \"base_model.layer2.0.downsample.1.bias\", \"base_model.layer2.0.downsample.1.running_mean\", \"base_model.layer2.0.downsample.1.running_var\", \"base_model.layer2.1.conv1.weight\", \"base_model.layer2.1.bn1.weight\", \"base_model.layer2.1.bn1.bias\", \"base_model.layer2.1.bn1.running_mean\", \"base_model.layer2.1.bn1.running_var\", \"base_model.layer2.1.conv2.weight\", \"base_model.layer2.1.bn2.weight\", \"base_model.layer2.1.bn2.bias\", \"base_model.layer2.1.bn2.running_mean\", \"base_model.layer2.1.bn2.running_var\", \"base_model.layer2.1.conv3.weight\", \"base_model.layer2.1.bn3.weight\", \"base_model.layer2.1.bn3.bias\", \"base_model.layer2.1.bn3.running_mean\", \"base_model.layer2.1.bn3.running_var\", \"base_model.layer2.2.conv1.weight\", \"base_model.layer2.2.bn1.weight\", \"base_model.layer2.2.bn1.bias\", \"base_model.layer2.2.bn1.running_mean\", \"base_model.layer2.2.bn1.running_var\", \"base_model.layer2.2.conv2.weight\", \"base_model.layer2.2.bn2.weight\", \"base_model.layer2.2.bn2.bias\", \"base_model.layer2.2.bn2.running_mean\", \"base_model.layer2.2.bn2.running_var\", \"base_model.layer2.2.conv3.weight\", \"base_model.layer2.2.bn3.weight\", \"base_model.layer2.2.bn3.bias\", \"base_model.layer2.2.bn3.running_mean\", \"base_model.layer2.2.bn3.running_var\", \"base_model.layer2.3.conv1.weight\", \"base_model.layer2.3.bn1.weight\", \"base_model.layer2.3.bn1.bias\", \"base_model.layer2.3.bn1.running_mean\", \"base_model.layer2.3.bn1.running_var\", \"base_model.layer2.3.conv2.weight\", \"base_model.layer2.3.bn2.weight\", \"base_model.layer2.3.bn2.bias\", \"base_model.layer2.3.bn2.running_mean\", \"base_model.layer2.3.bn2.running_var\", \"base_model.layer2.3.conv3.weight\", \"base_model.layer2.3.bn3.weight\", \"base_model.layer2.3.bn3.bias\", \"base_model.layer2.3.bn3.running_mean\", \"base_model.layer2.3.bn3.running_var\", \"base_model.layer3.0.conv1.weight\", \"base_model.layer3.0.bn1.weight\", \"base_model.layer3.0.bn1.bias\", \"base_model.layer3.0.bn1.running_mean\", \"base_model.layer3.0.bn1.running_var\", \"base_model.layer3.0.conv2.weight\", \"base_model.layer3.0.bn2.weight\", \"base_model.layer3.0.bn2.bias\", \"base_model.layer3.0.bn2.running_mean\", \"base_model.layer3.0.bn2.running_var\", \"base_model.layer3.0.conv3.weight\", \"base_model.layer3.0.bn3.weight\", \"base_model.layer3.0.bn3.bias\", \"base_model.layer3.0.bn3.running_mean\", \"base_model.layer3.0.bn3.running_var\", \"base_model.layer3.0.downsample.0.weight\", \"base_model.layer3.0.downsample.1.weight\", \"base_model.layer3.0.downsample.1.bias\", \"base_model.layer3.0.downsample.1.running_mean\", \"base_model.layer3.0.downsample.1.running_var\", \"base_model.layer3.1.conv1.weight\", \"base_model.layer3.1.bn1.weight\", \"base_model.layer3.1.bn1.bias\", \"base_model.layer3.1.bn1.running_mean\", \"base_model.layer3.1.bn1.running_var\", \"base_model.layer3.1.conv2.weight\", \"base_model.layer3.1.bn2.weight\", \"base_model.layer3.1.bn2.bias\", \"base_model.layer3.1.bn2.running_mean\", \"base_model.layer3.1.bn2.running_var\", \"base_model.layer3.1.conv3.weight\", \"base_model.layer3.1.bn3.weight\", \"base_model.layer3.1.bn3.bias\", \"base_model.layer3.1.bn3.running_mean\", \"base_model.layer3.1.bn3.running_var\", \"base_model.layer3.2.conv1.weight\", \"base_model.layer3.2.bn1.weight\", \"base_model.layer3.2.bn1.bias\", \"base_model.layer3.2.bn1.running_mean\", \"base_model.layer3.2.bn1.running_var\", \"base_model.layer3.2.conv2.weight\", \"base_model.layer3.2.bn2.weight\", \"base_model.layer3.2.bn2.bias\", \"base_model.layer3.2.bn2.running_mean\", \"base_model.layer3.2.bn2.running_var\", \"base_model.layer3.2.conv3.weight\", \"base_model.layer3.2.bn3.weight\", \"base_model.layer3.2.bn3.bias\", \"base_model.layer3.2.bn3.running_mean\", \"base_model.layer3.2.bn3.running_var\", \"base_model.layer3.3.conv1.weight\", \"base_model.layer3.3.bn1.weight\", \"base_model.layer3.3.bn1.bias\", \"base_model.layer3.3.bn1.running_mean\", \"base_model.layer3.3.bn1.running_var\", \"base_model.layer3.3.conv2.weight\", \"base_model.layer3.3.bn2.weight\", \"base_model.layer3.3.bn2.bias\", \"base_model.layer3.3.bn2.running_mean\", \"base_model.layer3.3.bn2.running_var\", \"base_model.layer3.3.conv3.weight\", \"base_model.layer3.3.bn3.weight\", \"base_model.layer3.3.bn3.bias\", \"base_model.layer3.3.bn3.running_mean\", \"base_model.layer3.3.bn3.running_var\", \"base_model.layer3.4.conv1.weight\", \"base_model.layer3.4.bn1.weight\", \"base_model.layer3.4.bn1.bias\", \"base_model.layer3.4.bn1.running_mean\", \"base_model.layer3.4.bn1.running_var\", \"base_model.layer3.4.conv2.weight\", \"base_model.layer3.4.bn2.weight\", \"base_model.layer3.4.bn2.bias\", \"base_model.layer3.4.bn2.running_mean\", \"base_model.layer3.4.bn2.running_var\", \"base_model.layer3.4.conv3.weight\", \"base_model.layer3.4.bn3.weight\", \"base_model.layer3.4.bn3.bias\", \"base_model.layer3.4.bn3.running_mean\", \"base_model.layer3.4.bn3.running_var\", \"base_model.layer3.5.conv1.weight\", \"base_model.layer3.5.bn1.weight\", \"base_model.layer3.5.bn1.bias\", \"base_model.layer3.5.bn1.running_mean\", \"base_model.layer3.5.bn1.running_var\", \"base_model.layer3.5.conv2.weight\", \"base_model.layer3.5.bn2.weight\", \"base_model.layer3.5.bn2.bias\", \"base_model.layer3.5.bn2.running_mean\", \"base_model.layer3.5.bn2.running_var\", \"base_model.layer3.5.conv3.weight\", \"base_model.layer3.5.bn3.weight\", \"base_model.layer3.5.bn3.bias\", \"base_model.layer3.5.bn3.running_mean\", \"base_model.layer3.5.bn3.running_var\", \"base_model.layer4.0.conv1.weight\", \"base_model.layer4.0.bn1.weight\", \"base_model.layer4.0.bn1.bias\", \"base_model.layer4.0.bn1.running_mean\", \"base_model.layer4.0.bn1.running_var\", \"base_model.layer4.0.conv2.weight\", \"base_model.layer4.0.bn2.weight\", \"base_model.layer4.0.bn2.bias\", \"base_model.layer4.0.bn2.running_mean\", \"base_model.layer4.0.bn2.running_var\", \"base_model.layer4.0.conv3.weight\", \"base_model.layer4.0.bn3.weight\", \"base_model.layer4.0.bn3.bias\", \"base_model.layer4.0.bn3.running_mean\", \"base_model.layer4.0.bn3.running_var\", \"base_model.layer4.0.downsample.0.weight\", \"base_model.layer4.0.downsample.1.weight\", \"base_model.layer4.0.downsample.1.bias\", \"base_model.layer4.0.downsample.1.running_mean\", \"base_model.layer4.0.downsample.1.running_var\", \"base_model.layer4.1.conv1.weight\", \"base_model.layer4.1.bn1.weight\", \"base_model.layer4.1.bn1.bias\", \"base_model.layer4.1.bn1.running_mean\", \"base_model.layer4.1.bn1.running_var\", \"base_model.layer4.1.conv2.weight\", \"base_model.layer4.1.bn2.weight\", \"base_model.layer4.1.bn2.bias\", \"base_model.layer4.1.bn2.running_mean\", \"base_model.layer4.1.bn2.running_var\", \"base_model.layer4.1.conv3.weight\", \"base_model.layer4.1.bn3.weight\", \"base_model.layer4.1.bn3.bias\", \"base_model.layer4.1.bn3.running_mean\", \"base_model.layer4.1.bn3.running_var\", \"base_model.layer4.2.conv1.weight\", \"base_model.layer4.2.bn1.weight\", \"base_model.layer4.2.bn1.bias\", \"base_model.layer4.2.bn1.running_mean\", \"base_model.layer4.2.bn1.running_var\", \"base_model.layer4.2.conv2.weight\", \"base_model.layer4.2.bn2.weight\", \"base_model.layer4.2.bn2.bias\", \"base_model.layer4.2.bn2.running_mean\", \"base_model.layer4.2.bn2.running_var\", \"base_model.layer4.2.conv3.weight\", \"base_model.layer4.2.bn3.weight\", \"base_model.layer4.2.bn3.bias\", \"base_model.layer4.2.bn3.running_mean\", \"base_model.layer4.2.bn3.running_var\", \"base_model.fc.weight\", \"base_model.fc.bias\", \"fc.weight\", \"fc.bias\". \n\tUnexpected key(s) in state_dict: \"all_train_total_loss\", \"all_test_total_loss\". "
     ]
    }
   ],
   "source": [
    "from sklearn.metrics import roc_curve\n",
    "from sklearn.metrics import auc\n",
    "\n",
    "\n",
    "model = MyModel.HSI_CLS_PCA_model(10)\n",
    "model.load_state_dict(torch.load(r'checkpoints/gouqi12_pca10_res50_04_model_curve.pth'))\n",
    "model.eval()\n",
    "with torch.no_grad():\n",
    "    image_id = random.randint(0,len(test_dataset)-1)\n",
    "    # image_id = 20\n",
    "    img,label = test_dataset[image_id] # 获取dataset的一个元素\n",
    "    image_name = test_dataset.get_class(image_id)\n",
    "    img = torch.unsqueeze(img, dim=0)   # 扩充img维度以供送入模型进行预测   \n",
    "    pred = model(img)\n",
    "\n",
    "    pred = np.squeeze(pred.numpy()) \n",
    "    label = np.squeeze(label.numpy())\n",
    "\n",
    "    print(pred,label)\n",
    "    # uout = msk\n",
    "    img = train_dataset.get_fakeimg(image_id)\n",
    "    visualize.display_images([img],cols = 1,titles = [image_name],cmap = 'gray')\n",
    "    # visualize.display_images([img,msk,dout,residual],cols = 2, rows = 2, titles = [image_name,'mask','dout','residual'],cmap = 'gray')"
   ]
  },
  {
   "cell_type": "markdown",
   "metadata": {},
   "source": [
    "# 5.误差分析"
   ]
  },
  {
   "cell_type": "code",
   "execution_count": 29,
   "metadata": {},
   "outputs": [
    {
     "ename": "RuntimeError",
     "evalue": "Error(s) in loading state_dict for HSI_CLS_PCA_model:\n\tMissing key(s) in state_dict: \"f0.0.weight\", \"f0.0.bias\", \"f0.1.weight\", \"f0.1.bias\", \"f0.1.running_mean\", \"f0.1.running_var\", \"base_model.conv1.weight\", \"base_model.bn1.weight\", \"base_model.bn1.bias\", \"base_model.bn1.running_mean\", \"base_model.bn1.running_var\", \"base_model.layer1.0.conv1.weight\", \"base_model.layer1.0.bn1.weight\", \"base_model.layer1.0.bn1.bias\", \"base_model.layer1.0.bn1.running_mean\", \"base_model.layer1.0.bn1.running_var\", \"base_model.layer1.0.conv2.weight\", \"base_model.layer1.0.bn2.weight\", \"base_model.layer1.0.bn2.bias\", \"base_model.layer1.0.bn2.running_mean\", \"base_model.layer1.0.bn2.running_var\", \"base_model.layer1.0.conv3.weight\", \"base_model.layer1.0.bn3.weight\", \"base_model.layer1.0.bn3.bias\", \"base_model.layer1.0.bn3.running_mean\", \"base_model.layer1.0.bn3.running_var\", \"base_model.layer1.0.downsample.0.weight\", \"base_model.layer1.0.downsample.1.weight\", \"base_model.layer1.0.downsample.1.bias\", \"base_model.layer1.0.downsample.1.running_mean\", \"base_model.layer1.0.downsample.1.running_var\", \"base_model.layer1.1.conv1.weight\", \"base_model.layer1.1.bn1.weight\", \"base_model.layer1.1.bn1.bias\", \"base_model.layer1.1.bn1.running_mean\", \"base_model.layer1.1.bn1.running_var\", \"base_model.layer1.1.conv2.weight\", \"base_model.layer1.1.bn2.weight\", \"base_model.layer1.1.bn2.bias\", \"base_model.layer1.1.bn2.running_mean\", \"base_model.layer1.1.bn2.running_var\", \"base_model.layer1.1.conv3.weight\", \"base_model.layer1.1.bn3.weight\", \"base_model.layer1.1.bn3.bias\", \"base_model.layer1.1.bn3.running_mean\", \"base_model.layer1.1.bn3.running_var\", \"base_model.layer1.2.conv1.weight\", \"base_model.layer1.2.bn1.weight\", \"base_model.layer1.2.bn1.bias\", \"base_model.layer1.2.bn1.running_mean\", \"base_model.layer1.2.bn1.running_var\", \"base_model.layer1.2.conv2.weight\", \"base_model.layer1.2.bn2.weight\", \"base_model.layer1.2.bn2.bias\", \"base_model.layer1.2.bn2.running_mean\", \"base_model.layer1.2.bn2.running_var\", \"base_model.layer1.2.conv3.weight\", \"base_model.layer1.2.bn3.weight\", \"base_model.layer1.2.bn3.bias\", \"base_model.layer1.2.bn3.running_mean\", \"base_model.layer1.2.bn3.running_var\", \"base_model.layer2.0.conv1.weight\", \"base_model.layer2.0.bn1.weight\", \"base_model.layer2.0.bn1.bias\", \"base_model.layer2.0.bn1.running_mean\", \"base_model.layer2.0.bn1.running_var\", \"base_model.layer2.0.conv2.weight\", \"base_model.layer2.0.bn2.weight\", \"base_model.layer2.0.bn2.bias\", \"base_model.layer2.0.bn2.running_mean\", \"base_model.layer2.0.bn2.running_var\", \"base_model.layer2.0.conv3.weight\", \"base_model.layer2.0.bn3.weight\", \"base_model.layer2.0.bn3.bias\", \"base_model.layer2.0.bn3.running_mean\", \"base_model.layer2.0.bn3.running_var\", \"base_model.layer2.0.downsample.0.weight\", \"base_model.layer2.0.downsample.1.weight\", \"base_model.layer2.0.downsample.1.bias\", \"base_model.layer2.0.downsample.1.running_mean\", \"base_model.layer2.0.downsample.1.running_var\", \"base_model.layer2.1.conv1.weight\", \"base_model.layer2.1.bn1.weight\", \"base_model.layer2.1.bn1.bias\", \"base_model.layer2.1.bn1.running_mean\", \"base_model.layer2.1.bn1.running_var\", \"base_model.layer2.1.conv2.weight\", \"base_model.layer2.1.bn2.weight\", \"base_model.layer2.1.bn2.bias\", \"base_model.layer2.1.bn2.running_mean\", \"base_model.layer2.1.bn2.running_var\", \"base_model.layer2.1.conv3.weight\", \"base_model.layer2.1.bn3.weight\", \"base_model.layer2.1.bn3.bias\", \"base_model.layer2.1.bn3.running_mean\", \"base_model.layer2.1.bn3.running_var\", \"base_model.layer2.2.conv1.weight\", \"base_model.layer2.2.bn1.weight\", \"base_model.layer2.2.bn1.bias\", \"base_model.layer2.2.bn1.running_mean\", \"base_model.layer2.2.bn1.running_var\", \"base_model.layer2.2.conv2.weight\", \"base_model.layer2.2.bn2.weight\", \"base_model.layer2.2.bn2.bias\", \"base_model.layer2.2.bn2.running_mean\", \"base_model.layer2.2.bn2.running_var\", \"base_model.layer2.2.conv3.weight\", \"base_model.layer2.2.bn3.weight\", \"base_model.layer2.2.bn3.bias\", \"base_model.layer2.2.bn3.running_mean\", \"base_model.layer2.2.bn3.running_var\", \"base_model.layer2.3.conv1.weight\", \"base_model.layer2.3.bn1.weight\", \"base_model.layer2.3.bn1.bias\", \"base_model.layer2.3.bn1.running_mean\", \"base_model.layer2.3.bn1.running_var\", \"base_model.layer2.3.conv2.weight\", \"base_model.layer2.3.bn2.weight\", \"base_model.layer2.3.bn2.bias\", \"base_model.layer2.3.bn2.running_mean\", \"base_model.layer2.3.bn2.running_var\", \"base_model.layer2.3.conv3.weight\", \"base_model.layer2.3.bn3.weight\", \"base_model.layer2.3.bn3.bias\", \"base_model.layer2.3.bn3.running_mean\", \"base_model.layer2.3.bn3.running_var\", \"base_model.layer3.0.conv1.weight\", \"base_model.layer3.0.bn1.weight\", \"base_model.layer3.0.bn1.bias\", \"base_model.layer3.0.bn1.running_mean\", \"base_model.layer3.0.bn1.running_var\", \"base_model.layer3.0.conv2.weight\", \"base_model.layer3.0.bn2.weight\", \"base_model.layer3.0.bn2.bias\", \"base_model.layer3.0.bn2.running_mean\", \"base_model.layer3.0.bn2.running_var\", \"base_model.layer3.0.conv3.weight\", \"base_model.layer3.0.bn3.weight\", \"base_model.layer3.0.bn3.bias\", \"base_model.layer3.0.bn3.running_mean\", \"base_model.layer3.0.bn3.running_var\", \"base_model.layer3.0.downsample.0.weight\", \"base_model.layer3.0.downsample.1.weight\", \"base_model.layer3.0.downsample.1.bias\", \"base_model.layer3.0.downsample.1.running_mean\", \"base_model.layer3.0.downsample.1.running_var\", \"base_model.layer3.1.conv1.weight\", \"base_model.layer3.1.bn1.weight\", \"base_model.layer3.1.bn1.bias\", \"base_model.layer3.1.bn1.running_mean\", \"base_model.layer3.1.bn1.running_var\", \"base_model.layer3.1.conv2.weight\", \"base_model.layer3.1.bn2.weight\", \"base_model.layer3.1.bn2.bias\", \"base_model.layer3.1.bn2.running_mean\", \"base_model.layer3.1.bn2.running_var\", \"base_model.layer3.1.conv3.weight\", \"base_model.layer3.1.bn3.weight\", \"base_model.layer3.1.bn3.bias\", \"base_model.layer3.1.bn3.running_mean\", \"base_model.layer3.1.bn3.running_var\", \"base_model.layer3.2.conv1.weight\", \"base_model.layer3.2.bn1.weight\", \"base_model.layer3.2.bn1.bias\", \"base_model.layer3.2.bn1.running_mean\", \"base_model.layer3.2.bn1.running_var\", \"base_model.layer3.2.conv2.weight\", \"base_model.layer3.2.bn2.weight\", \"base_model.layer3.2.bn2.bias\", \"base_model.layer3.2.bn2.running_mean\", \"base_model.layer3.2.bn2.running_var\", \"base_model.layer3.2.conv3.weight\", \"base_model.layer3.2.bn3.weight\", \"base_model.layer3.2.bn3.bias\", \"base_model.layer3.2.bn3.running_mean\", \"base_model.layer3.2.bn3.running_var\", \"base_model.layer3.3.conv1.weight\", \"base_model.layer3.3.bn1.weight\", \"base_model.layer3.3.bn1.bias\", \"base_model.layer3.3.bn1.running_mean\", \"base_model.layer3.3.bn1.running_var\", \"base_model.layer3.3.conv2.weight\", \"base_model.layer3.3.bn2.weight\", \"base_model.layer3.3.bn2.bias\", \"base_model.layer3.3.bn2.running_mean\", \"base_model.layer3.3.bn2.running_var\", \"base_model.layer3.3.conv3.weight\", \"base_model.layer3.3.bn3.weight\", \"base_model.layer3.3.bn3.bias\", \"base_model.layer3.3.bn3.running_mean\", \"base_model.layer3.3.bn3.running_var\", \"base_model.layer3.4.conv1.weight\", \"base_model.layer3.4.bn1.weight\", \"base_model.layer3.4.bn1.bias\", \"base_model.layer3.4.bn1.running_mean\", \"base_model.layer3.4.bn1.running_var\", \"base_model.layer3.4.conv2.weight\", \"base_model.layer3.4.bn2.weight\", \"base_model.layer3.4.bn2.bias\", \"base_model.layer3.4.bn2.running_mean\", \"base_model.layer3.4.bn2.running_var\", \"base_model.layer3.4.conv3.weight\", \"base_model.layer3.4.bn3.weight\", \"base_model.layer3.4.bn3.bias\", \"base_model.layer3.4.bn3.running_mean\", \"base_model.layer3.4.bn3.running_var\", \"base_model.layer3.5.conv1.weight\", \"base_model.layer3.5.bn1.weight\", \"base_model.layer3.5.bn1.bias\", \"base_model.layer3.5.bn1.running_mean\", \"base_model.layer3.5.bn1.running_var\", \"base_model.layer3.5.conv2.weight\", \"base_model.layer3.5.bn2.weight\", \"base_model.layer3.5.bn2.bias\", \"base_model.layer3.5.bn2.running_mean\", \"base_model.layer3.5.bn2.running_var\", \"base_model.layer3.5.conv3.weight\", \"base_model.layer3.5.bn3.weight\", \"base_model.layer3.5.bn3.bias\", \"base_model.layer3.5.bn3.running_mean\", \"base_model.layer3.5.bn3.running_var\", \"base_model.layer4.0.conv1.weight\", \"base_model.layer4.0.bn1.weight\", \"base_model.layer4.0.bn1.bias\", \"base_model.layer4.0.bn1.running_mean\", \"base_model.layer4.0.bn1.running_var\", \"base_model.layer4.0.conv2.weight\", \"base_model.layer4.0.bn2.weight\", \"base_model.layer4.0.bn2.bias\", \"base_model.layer4.0.bn2.running_mean\", \"base_model.layer4.0.bn2.running_var\", \"base_model.layer4.0.conv3.weight\", \"base_model.layer4.0.bn3.weight\", \"base_model.layer4.0.bn3.bias\", \"base_model.layer4.0.bn3.running_mean\", \"base_model.layer4.0.bn3.running_var\", \"base_model.layer4.0.downsample.0.weight\", \"base_model.layer4.0.downsample.1.weight\", \"base_model.layer4.0.downsample.1.bias\", \"base_model.layer4.0.downsample.1.running_mean\", \"base_model.layer4.0.downsample.1.running_var\", \"base_model.layer4.1.conv1.weight\", \"base_model.layer4.1.bn1.weight\", \"base_model.layer4.1.bn1.bias\", \"base_model.layer4.1.bn1.running_mean\", \"base_model.layer4.1.bn1.running_var\", \"base_model.layer4.1.conv2.weight\", \"base_model.layer4.1.bn2.weight\", \"base_model.layer4.1.bn2.bias\", \"base_model.layer4.1.bn2.running_mean\", \"base_model.layer4.1.bn2.running_var\", \"base_model.layer4.1.conv3.weight\", \"base_model.layer4.1.bn3.weight\", \"base_model.layer4.1.bn3.bias\", \"base_model.layer4.1.bn3.running_mean\", \"base_model.layer4.1.bn3.running_var\", \"base_model.layer4.2.conv1.weight\", \"base_model.layer4.2.bn1.weight\", \"base_model.layer4.2.bn1.bias\", \"base_model.layer4.2.bn1.running_mean\", \"base_model.layer4.2.bn1.running_var\", \"base_model.layer4.2.conv2.weight\", \"base_model.layer4.2.bn2.weight\", \"base_model.layer4.2.bn2.bias\", \"base_model.layer4.2.bn2.running_mean\", \"base_model.layer4.2.bn2.running_var\", \"base_model.layer4.2.conv3.weight\", \"base_model.layer4.2.bn3.weight\", \"base_model.layer4.2.bn3.bias\", \"base_model.layer4.2.bn3.running_mean\", \"base_model.layer4.2.bn3.running_var\", \"base_model.fc.weight\", \"base_model.fc.bias\", \"fc.weight\", \"fc.bias\". \n\tUnexpected key(s) in state_dict: \"all_train_total_loss\", \"all_test_total_loss\". ",
     "output_type": "error",
     "traceback": [
      "\u001b[0;31m---------------------------------------------------------------------------\u001b[0m",
      "\u001b[0;31mRuntimeError\u001b[0m                              Traceback (most recent call last)",
      "Cell \u001b[0;32mIn [29], line 8\u001b[0m\n\u001b[1;32m      5\u001b[0m \u001b[38;5;66;03m# model = MyModel.HSI_CLS_model(603).to(device)\u001b[39;00m\n\u001b[1;32m      6\u001b[0m \u001b[38;5;66;03m# model.load_state_dict(torch.load(r'checkpoints/hsi_pca3_res50_16_model_param.pth'))\u001b[39;00m\n\u001b[1;32m      7\u001b[0m model \u001b[38;5;241m=\u001b[39m MyModel\u001b[38;5;241m.\u001b[39mHSI_CLS_PCA_model(\u001b[38;5;241m10\u001b[39m)\u001b[38;5;241m.\u001b[39mto(device)\n\u001b[0;32m----> 8\u001b[0m \u001b[43mmodel\u001b[49m\u001b[38;5;241;43m.\u001b[39;49m\u001b[43mload_state_dict\u001b[49m\u001b[43m(\u001b[49m\u001b[43mtorch\u001b[49m\u001b[38;5;241;43m.\u001b[39;49m\u001b[43mload\u001b[49m\u001b[43m(\u001b[49m\u001b[38;5;124;43mr\u001b[39;49m\u001b[38;5;124;43m'\u001b[39;49m\u001b[38;5;124;43mcheckpoints/gouqi12_pca10_res50_04_model_curve.pth\u001b[39;49m\u001b[38;5;124;43m'\u001b[39;49m\u001b[43m)\u001b[49m\u001b[43m)\u001b[49m\n\u001b[1;32m      9\u001b[0m model\u001b[38;5;241m.\u001b[39meval()\n\u001b[1;32m     10\u001b[0m \u001b[38;5;66;03m# criterion = nn.BCELoss().to(device)\u001b[39;00m\n",
      "File \u001b[0;32m~/anaconda3/envs/syj/lib/python3.8/site-packages/torch/nn/modules/module.py:1223\u001b[0m, in \u001b[0;36mModule.load_state_dict\u001b[0;34m(self, state_dict, strict)\u001b[0m\n\u001b[1;32m   1218\u001b[0m         error_msgs\u001b[39m.\u001b[39minsert(\n\u001b[1;32m   1219\u001b[0m             \u001b[39m0\u001b[39m, \u001b[39m'\u001b[39m\u001b[39mMissing key(s) in state_dict: \u001b[39m\u001b[39m{}\u001b[39;00m\u001b[39m. \u001b[39m\u001b[39m'\u001b[39m\u001b[39m.\u001b[39mformat(\n\u001b[1;32m   1220\u001b[0m                 \u001b[39m'\u001b[39m\u001b[39m, \u001b[39m\u001b[39m'\u001b[39m\u001b[39m.\u001b[39mjoin(\u001b[39m'\u001b[39m\u001b[39m\"\u001b[39m\u001b[39m{}\u001b[39;00m\u001b[39m\"\u001b[39m\u001b[39m'\u001b[39m\u001b[39m.\u001b[39mformat(k) \u001b[39mfor\u001b[39;00m k \u001b[39min\u001b[39;00m missing_keys)))\n\u001b[1;32m   1222\u001b[0m \u001b[39mif\u001b[39;00m \u001b[39mlen\u001b[39m(error_msgs) \u001b[39m>\u001b[39m \u001b[39m0\u001b[39m:\n\u001b[0;32m-> 1223\u001b[0m     \u001b[39mraise\u001b[39;00m \u001b[39mRuntimeError\u001b[39;00m(\u001b[39m'\u001b[39m\u001b[39mError(s) in loading state_dict for \u001b[39m\u001b[39m{}\u001b[39;00m\u001b[39m:\u001b[39m\u001b[39m\\n\u001b[39;00m\u001b[39m\\t\u001b[39;00m\u001b[39m{}\u001b[39;00m\u001b[39m'\u001b[39m\u001b[39m.\u001b[39mformat(\n\u001b[1;32m   1224\u001b[0m                        \u001b[39mself\u001b[39m\u001b[39m.\u001b[39m\u001b[39m__class__\u001b[39m\u001b[39m.\u001b[39m\u001b[39m__name__\u001b[39m, \u001b[39m\"\u001b[39m\u001b[39m\\n\u001b[39;00m\u001b[39m\\t\u001b[39;00m\u001b[39m\"\u001b[39m\u001b[39m.\u001b[39mjoin(error_msgs)))\n\u001b[1;32m   1225\u001b[0m \u001b[39mreturn\u001b[39;00m _IncompatibleKeys(missing_keys, unexpected_keys)\n",
      "\u001b[0;31mRuntimeError\u001b[0m: Error(s) in loading state_dict for HSI_CLS_PCA_model:\n\tMissing key(s) in state_dict: \"f0.0.weight\", \"f0.0.bias\", \"f0.1.weight\", \"f0.1.bias\", \"f0.1.running_mean\", \"f0.1.running_var\", \"base_model.conv1.weight\", \"base_model.bn1.weight\", \"base_model.bn1.bias\", \"base_model.bn1.running_mean\", \"base_model.bn1.running_var\", \"base_model.layer1.0.conv1.weight\", \"base_model.layer1.0.bn1.weight\", \"base_model.layer1.0.bn1.bias\", \"base_model.layer1.0.bn1.running_mean\", \"base_model.layer1.0.bn1.running_var\", \"base_model.layer1.0.conv2.weight\", \"base_model.layer1.0.bn2.weight\", \"base_model.layer1.0.bn2.bias\", \"base_model.layer1.0.bn2.running_mean\", \"base_model.layer1.0.bn2.running_var\", \"base_model.layer1.0.conv3.weight\", \"base_model.layer1.0.bn3.weight\", \"base_model.layer1.0.bn3.bias\", \"base_model.layer1.0.bn3.running_mean\", \"base_model.layer1.0.bn3.running_var\", \"base_model.layer1.0.downsample.0.weight\", \"base_model.layer1.0.downsample.1.weight\", \"base_model.layer1.0.downsample.1.bias\", \"base_model.layer1.0.downsample.1.running_mean\", \"base_model.layer1.0.downsample.1.running_var\", \"base_model.layer1.1.conv1.weight\", \"base_model.layer1.1.bn1.weight\", \"base_model.layer1.1.bn1.bias\", \"base_model.layer1.1.bn1.running_mean\", \"base_model.layer1.1.bn1.running_var\", \"base_model.layer1.1.conv2.weight\", \"base_model.layer1.1.bn2.weight\", \"base_model.layer1.1.bn2.bias\", \"base_model.layer1.1.bn2.running_mean\", \"base_model.layer1.1.bn2.running_var\", \"base_model.layer1.1.conv3.weight\", \"base_model.layer1.1.bn3.weight\", \"base_model.layer1.1.bn3.bias\", \"base_model.layer1.1.bn3.running_mean\", \"base_model.layer1.1.bn3.running_var\", \"base_model.layer1.2.conv1.weight\", \"base_model.layer1.2.bn1.weight\", \"base_model.layer1.2.bn1.bias\", \"base_model.layer1.2.bn1.running_mean\", \"base_model.layer1.2.bn1.running_var\", \"base_model.layer1.2.conv2.weight\", \"base_model.layer1.2.bn2.weight\", \"base_model.layer1.2.bn2.bias\", \"base_model.layer1.2.bn2.running_mean\", \"base_model.layer1.2.bn2.running_var\", \"base_model.layer1.2.conv3.weight\", \"base_model.layer1.2.bn3.weight\", \"base_model.layer1.2.bn3.bias\", \"base_model.layer1.2.bn3.running_mean\", \"base_model.layer1.2.bn3.running_var\", \"base_model.layer2.0.conv1.weight\", \"base_model.layer2.0.bn1.weight\", \"base_model.layer2.0.bn1.bias\", \"base_model.layer2.0.bn1.running_mean\", \"base_model.layer2.0.bn1.running_var\", \"base_model.layer2.0.conv2.weight\", \"base_model.layer2.0.bn2.weight\", \"base_model.layer2.0.bn2.bias\", \"base_model.layer2.0.bn2.running_mean\", \"base_model.layer2.0.bn2.running_var\", \"base_model.layer2.0.conv3.weight\", \"base_model.layer2.0.bn3.weight\", \"base_model.layer2.0.bn3.bias\", \"base_model.layer2.0.bn3.running_mean\", \"base_model.layer2.0.bn3.running_var\", \"base_model.layer2.0.downsample.0.weight\", \"base_model.layer2.0.downsample.1.weight\", \"base_model.layer2.0.downsample.1.bias\", \"base_model.layer2.0.downsample.1.running_mean\", \"base_model.layer2.0.downsample.1.running_var\", \"base_model.layer2.1.conv1.weight\", \"base_model.layer2.1.bn1.weight\", \"base_model.layer2.1.bn1.bias\", \"base_model.layer2.1.bn1.running_mean\", \"base_model.layer2.1.bn1.running_var\", \"base_model.layer2.1.conv2.weight\", \"base_model.layer2.1.bn2.weight\", \"base_model.layer2.1.bn2.bias\", \"base_model.layer2.1.bn2.running_mean\", \"base_model.layer2.1.bn2.running_var\", \"base_model.layer2.1.conv3.weight\", \"base_model.layer2.1.bn3.weight\", \"base_model.layer2.1.bn3.bias\", \"base_model.layer2.1.bn3.running_mean\", \"base_model.layer2.1.bn3.running_var\", \"base_model.layer2.2.conv1.weight\", \"base_model.layer2.2.bn1.weight\", \"base_model.layer2.2.bn1.bias\", \"base_model.layer2.2.bn1.running_mean\", \"base_model.layer2.2.bn1.running_var\", \"base_model.layer2.2.conv2.weight\", \"base_model.layer2.2.bn2.weight\", \"base_model.layer2.2.bn2.bias\", \"base_model.layer2.2.bn2.running_mean\", \"base_model.layer2.2.bn2.running_var\", \"base_model.layer2.2.conv3.weight\", \"base_model.layer2.2.bn3.weight\", \"base_model.layer2.2.bn3.bias\", \"base_model.layer2.2.bn3.running_mean\", \"base_model.layer2.2.bn3.running_var\", \"base_model.layer2.3.conv1.weight\", \"base_model.layer2.3.bn1.weight\", \"base_model.layer2.3.bn1.bias\", \"base_model.layer2.3.bn1.running_mean\", \"base_model.layer2.3.bn1.running_var\", \"base_model.layer2.3.conv2.weight\", \"base_model.layer2.3.bn2.weight\", \"base_model.layer2.3.bn2.bias\", \"base_model.layer2.3.bn2.running_mean\", \"base_model.layer2.3.bn2.running_var\", \"base_model.layer2.3.conv3.weight\", \"base_model.layer2.3.bn3.weight\", \"base_model.layer2.3.bn3.bias\", \"base_model.layer2.3.bn3.running_mean\", \"base_model.layer2.3.bn3.running_var\", \"base_model.layer3.0.conv1.weight\", \"base_model.layer3.0.bn1.weight\", \"base_model.layer3.0.bn1.bias\", \"base_model.layer3.0.bn1.running_mean\", \"base_model.layer3.0.bn1.running_var\", \"base_model.layer3.0.conv2.weight\", \"base_model.layer3.0.bn2.weight\", \"base_model.layer3.0.bn2.bias\", \"base_model.layer3.0.bn2.running_mean\", \"base_model.layer3.0.bn2.running_var\", \"base_model.layer3.0.conv3.weight\", \"base_model.layer3.0.bn3.weight\", \"base_model.layer3.0.bn3.bias\", \"base_model.layer3.0.bn3.running_mean\", \"base_model.layer3.0.bn3.running_var\", \"base_model.layer3.0.downsample.0.weight\", \"base_model.layer3.0.downsample.1.weight\", \"base_model.layer3.0.downsample.1.bias\", \"base_model.layer3.0.downsample.1.running_mean\", \"base_model.layer3.0.downsample.1.running_var\", \"base_model.layer3.1.conv1.weight\", \"base_model.layer3.1.bn1.weight\", \"base_model.layer3.1.bn1.bias\", \"base_model.layer3.1.bn1.running_mean\", \"base_model.layer3.1.bn1.running_var\", \"base_model.layer3.1.conv2.weight\", \"base_model.layer3.1.bn2.weight\", \"base_model.layer3.1.bn2.bias\", \"base_model.layer3.1.bn2.running_mean\", \"base_model.layer3.1.bn2.running_var\", \"base_model.layer3.1.conv3.weight\", \"base_model.layer3.1.bn3.weight\", \"base_model.layer3.1.bn3.bias\", \"base_model.layer3.1.bn3.running_mean\", \"base_model.layer3.1.bn3.running_var\", \"base_model.layer3.2.conv1.weight\", \"base_model.layer3.2.bn1.weight\", \"base_model.layer3.2.bn1.bias\", \"base_model.layer3.2.bn1.running_mean\", \"base_model.layer3.2.bn1.running_var\", \"base_model.layer3.2.conv2.weight\", \"base_model.layer3.2.bn2.weight\", \"base_model.layer3.2.bn2.bias\", \"base_model.layer3.2.bn2.running_mean\", \"base_model.layer3.2.bn2.running_var\", \"base_model.layer3.2.conv3.weight\", \"base_model.layer3.2.bn3.weight\", \"base_model.layer3.2.bn3.bias\", \"base_model.layer3.2.bn3.running_mean\", \"base_model.layer3.2.bn3.running_var\", \"base_model.layer3.3.conv1.weight\", \"base_model.layer3.3.bn1.weight\", \"base_model.layer3.3.bn1.bias\", \"base_model.layer3.3.bn1.running_mean\", \"base_model.layer3.3.bn1.running_var\", \"base_model.layer3.3.conv2.weight\", \"base_model.layer3.3.bn2.weight\", \"base_model.layer3.3.bn2.bias\", \"base_model.layer3.3.bn2.running_mean\", \"base_model.layer3.3.bn2.running_var\", \"base_model.layer3.3.conv3.weight\", \"base_model.layer3.3.bn3.weight\", \"base_model.layer3.3.bn3.bias\", \"base_model.layer3.3.bn3.running_mean\", \"base_model.layer3.3.bn3.running_var\", \"base_model.layer3.4.conv1.weight\", \"base_model.layer3.4.bn1.weight\", \"base_model.layer3.4.bn1.bias\", \"base_model.layer3.4.bn1.running_mean\", \"base_model.layer3.4.bn1.running_var\", \"base_model.layer3.4.conv2.weight\", \"base_model.layer3.4.bn2.weight\", \"base_model.layer3.4.bn2.bias\", \"base_model.layer3.4.bn2.running_mean\", \"base_model.layer3.4.bn2.running_var\", \"base_model.layer3.4.conv3.weight\", \"base_model.layer3.4.bn3.weight\", \"base_model.layer3.4.bn3.bias\", \"base_model.layer3.4.bn3.running_mean\", \"base_model.layer3.4.bn3.running_var\", \"base_model.layer3.5.conv1.weight\", \"base_model.layer3.5.bn1.weight\", \"base_model.layer3.5.bn1.bias\", \"base_model.layer3.5.bn1.running_mean\", \"base_model.layer3.5.bn1.running_var\", \"base_model.layer3.5.conv2.weight\", \"base_model.layer3.5.bn2.weight\", \"base_model.layer3.5.bn2.bias\", \"base_model.layer3.5.bn2.running_mean\", \"base_model.layer3.5.bn2.running_var\", \"base_model.layer3.5.conv3.weight\", \"base_model.layer3.5.bn3.weight\", \"base_model.layer3.5.bn3.bias\", \"base_model.layer3.5.bn3.running_mean\", \"base_model.layer3.5.bn3.running_var\", \"base_model.layer4.0.conv1.weight\", \"base_model.layer4.0.bn1.weight\", \"base_model.layer4.0.bn1.bias\", \"base_model.layer4.0.bn1.running_mean\", \"base_model.layer4.0.bn1.running_var\", \"base_model.layer4.0.conv2.weight\", \"base_model.layer4.0.bn2.weight\", \"base_model.layer4.0.bn2.bias\", \"base_model.layer4.0.bn2.running_mean\", \"base_model.layer4.0.bn2.running_var\", \"base_model.layer4.0.conv3.weight\", \"base_model.layer4.0.bn3.weight\", \"base_model.layer4.0.bn3.bias\", \"base_model.layer4.0.bn3.running_mean\", \"base_model.layer4.0.bn3.running_var\", \"base_model.layer4.0.downsample.0.weight\", \"base_model.layer4.0.downsample.1.weight\", \"base_model.layer4.0.downsample.1.bias\", \"base_model.layer4.0.downsample.1.running_mean\", \"base_model.layer4.0.downsample.1.running_var\", \"base_model.layer4.1.conv1.weight\", \"base_model.layer4.1.bn1.weight\", \"base_model.layer4.1.bn1.bias\", \"base_model.layer4.1.bn1.running_mean\", \"base_model.layer4.1.bn1.running_var\", \"base_model.layer4.1.conv2.weight\", \"base_model.layer4.1.bn2.weight\", \"base_model.layer4.1.bn2.bias\", \"base_model.layer4.1.bn2.running_mean\", \"base_model.layer4.1.bn2.running_var\", \"base_model.layer4.1.conv3.weight\", \"base_model.layer4.1.bn3.weight\", \"base_model.layer4.1.bn3.bias\", \"base_model.layer4.1.bn3.running_mean\", \"base_model.layer4.1.bn3.running_var\", \"base_model.layer4.2.conv1.weight\", \"base_model.layer4.2.bn1.weight\", \"base_model.layer4.2.bn1.bias\", \"base_model.layer4.2.bn1.running_mean\", \"base_model.layer4.2.bn1.running_var\", \"base_model.layer4.2.conv2.weight\", \"base_model.layer4.2.bn2.weight\", \"base_model.layer4.2.bn2.bias\", \"base_model.layer4.2.bn2.running_mean\", \"base_model.layer4.2.bn2.running_var\", \"base_model.layer4.2.conv3.weight\", \"base_model.layer4.2.bn3.weight\", \"base_model.layer4.2.bn3.bias\", \"base_model.layer4.2.bn3.running_mean\", \"base_model.layer4.2.bn3.running_var\", \"base_model.fc.weight\", \"base_model.fc.bias\", \"fc.weight\", \"fc.bias\". \n\tUnexpected key(s) in state_dict: \"all_train_total_loss\", \"all_test_total_loss\". "
     ]
    }
   ],
   "source": [
    "from sklearn.metrics import roc_curve\n",
    "from sklearn.metrics import auc\n",
    "\n",
    "device = torch.device('cuda' if torch.cuda.is_available() else 'cpu')\n",
    "# model = MyModel.HSI_CLS_model(603).to(device)\n",
    "# model.load_state_dict(torch.load(r'checkpoints/hsi_pca3_res50_16_model_param.pth'))\n",
    "model = MyModel.HSI_CLS_PCA_model(10).to(device)\n",
    "model.load_state_dict(torch.load(r'checkpoints/gouqi12_pca10_res50_04_model_curve.pth'))\n",
    "model.eval()\n",
    "# criterion = nn.BCELoss().to(device)\n",
    "\n",
    "pred_list = []\n",
    "label_list = []\n",
    "\n",
    "mask_cnt = 0\n",
    "with torch.no_grad():\n",
    "    for index in tqdm(range(len(test_dataset))):\n",
    "        img,label = test_dataset[index] # 获取dataset的一个元素\n",
    "        img = torch.unsqueeze(img, dim=0)   # 扩充img维度以供送入模型进行预测\n",
    "        img = img.to(device)\n",
    "        pred = model(img).cpu()\n",
    "        pred_list.append(np.squeeze(pred.numpy()))\n",
    "        label_list.append(np.squeeze(label.numpy()))\n",
    "\n",
    "\n",
    "\n",
    "    fpr, tpr, thersholds = roc_curve(label_list, pred_list, pos_label=1)\n",
    "    roc_auc = auc(fpr, tpr)\n",
    "    print('rec img roc' , roc_auc)\n"
   ]
  }
 ],
 "metadata": {
  "kernelspec": {
   "display_name": "Python 3.8.0 ('syj')",
   "language": "python",
   "name": "python3"
  },
  "language_info": {
   "codemirror_mode": {
    "name": "ipython",
    "version": 3
   },
   "file_extension": ".py",
   "mimetype": "text/x-python",
   "name": "python",
   "nbconvert_exporter": "python",
   "pygments_lexer": "ipython3",
   "version": "3.8.0"
  },
  "metadata": {
   "interpreter": {
    "hash": "4cd7ab41f5fca4b9b44701077e38c5ffd31fe66a6cab21e0214b68d958d0e462"
   }
  },
  "orig_nbformat": 4,
  "vscode": {
   "interpreter": {
    "hash": "c1b67286302974594f59637529ab7b7402e529d3263cff939312e4cff31f2486"
   }
  }
 },
 "nbformat": 4,
 "nbformat_minor": 2
}
