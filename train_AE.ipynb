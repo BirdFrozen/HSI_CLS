{
 "cells": [
  {
   "cell_type": "code",
   "execution_count": 1,
   "metadata": {},
   "outputs": [
    {
     "name": "stderr",
     "output_type": "stream",
     "text": [
      "d:\\function\\anaconda3\\envs\\pytorch\\lib\\site-packages\\torchvision\\io\\image.py:11: UserWarning: Failed to load image Python extension: Could not find module 'D:\\function\\anaconda3\\envs\\pytorch\\Lib\\site-packages\\torchvision\\image.pyd' (or one of its dependencies). Try using the full path with constructor syntax.\n",
      "  warn(f\"Failed to load image Python extension: {e}\")\n"
     ]
    }
   ],
   "source": [
    "import os\n",
    "import sys\n",
    "import random\n",
    "import cv2\n",
    "import math\n",
    "import re\n",
    "import time\n",
    "import numpy as np\n",
    "import matplotlib\n",
    "import matplotlib.pyplot as plt\n",
    "\n",
    "import torch\n",
    "import torch.nn as nn\n",
    "import torch.optim as optim\n",
    "from torch.utils.data import DataLoader, Dataset, random_split\n",
    "import torchvision.transforms as transforms\n",
    "from sklearn.decomposition import PCA\n",
    "\n",
    "from datetime import datetime\n",
    "from tqdm import tqdm\n",
    "from PIL import Image\n",
    "\n",
    "# Root directory of the project\n",
    "ROOT_DIR = os.path.abspath(\".\")\n",
    "\n",
    "# Import Mask RCNN\n",
    "sys.path.append(ROOT_DIR)  # To find local version of the library\n",
    "\n",
    "import dataprocess\n",
    "import estimation\n",
    "import MyModel\n",
    "import visualize\n",
    "import loss\n",
    "import spectral\n",
    "\n",
    "torch.cuda.empty_cache()"
   ]
  },
  {
   "cell_type": "markdown",
   "metadata": {},
   "source": [
    "# 1.全局设置Configurations\n",
    "- 导入函数库\n",
    "- 定义一些全局公用的参数，如裁剪图像的大小"
   ]
  },
  {
   "cell_type": "code",
   "execution_count": 2,
   "metadata": {},
   "outputs": [
    {
     "name": "stdout",
     "output_type": "stream",
     "text": [
      "\n",
      "Configurations:\n",
      "IMG_HIGHT                      100\n",
      "IMG_WIDTH                      100\n",
      "SPLIT_SIGN                     \\\n",
      "TestImageRoot                  D:\\QT_Project\\Save\\danggui\\test\n",
      "TrainImageRoot                 D:\\QT_Project\\Save\\danggui\\train\n",
      "\n",
      "\n"
     ]
    }
   ],
   "source": [
    "\n",
    "class Config():\n",
    "    TrainImageRoot = r'D:\\QT_Project\\Save\\danggui\\train'\n",
    "    TestImageRoot = r'D:\\QT_Project\\Save\\danggui\\test'\n",
    "\n",
    "    IMG_HIGHT = 100\n",
    "    IMG_WIDTH = 100\n",
    "\n",
    "    SPLIT_SIGN = '\\\\'\n",
    "\n",
    "    # 打印所有的全局参数\n",
    "    def display(self):\n",
    "        print(\"\\nConfigurations:\")\n",
    "        for a in dir(self):\n",
    "            if not a.startswith(\"__\") and not callable(getattr(self, a)):\n",
    "                print(\"{:30} {}\".format(a, getattr(self, a)))\n",
    "        print(\"\\n\")\n",
    "\n",
    "config = Config()\n",
    "config.display()\n"
   ]
  },
  {
   "cell_type": "markdown",
   "metadata": {},
   "source": [
    "# 2.定义Dataset\n",
    "- __init__(self,*): 定义相关参数，图像预处理\n",
    "- __len__(self): 用于获取Dataset的长度\n",
    "- __getitem__(self, idx): 在list索引时返回一份预处理过的数据\n",
    "\n",
    "在getitem中\n",
    "1. 读取原始图像\n",
    "2. 对原始图像引入块状噪声，因此需要写随机引入噪声的函数，高斯噪声？或者直接裁剪，添加随机颜色随机大小随机位置的色块 \\\n",
    "定义随机获取一个区域的函数 ： 图像大小，噪声块大小范围 输出 一个随机区域的mask，用于之后添加噪声和构建目标输出图像 \\\n",
    "思考一下:\n",
    "- 怎么定义噪声，\n",
    "- 定义什么形状的噪声，\n",
    "- 定义几块噪声，\n",
    "- 定义什么类型的噪声,\n",
    "- 将噪声与原图像相加还是相乘 \\\n",
    "定义随机噪声函数 输入 ：原始图像 图像大小 噪声块大小范围  输出： 添加噪声后的图像\n",
    "3. 构建目标输出图像 \\\n",
    "定义输出图像函数 输入 ：原始图像 图像大小 噪声块 输出：添加噪声后的图片"
   ]
  },
  {
   "cell_type": "code",
   "execution_count": 3,
   "metadata": {},
   "outputs": [],
   "source": [
    "class TrainDataset(Dataset):\n",
    "    # 输入参数为待分割图像的地址元组，GroundTruth的地址元组，以及两者的归一化函数\n",
    "    def __init__(self, DatPath, HdrPath,label,pca ,ImageWidth, ImageHeight):\n",
    "        \n",
    "        self.DatPath = DatPath\n",
    "        self.HdrPath = HdrPath\n",
    "        self.label = label\n",
    "        self.ImageWidth = ImageWidth\n",
    "        self.ImageHeight = ImageHeight\n",
    "\n",
    "        self.ImageTransformer = transforms.Compose([\n",
    "            transforms.ToTensor(),\n",
    "            transforms.CenterCrop(self.ImageWidth),\n",
    "        ])\n",
    "        self.pca = pca\n",
    "\n",
    "    def __len__(self):\n",
    "        return len(self.DatPath)\n",
    "\n",
    "    def __getitem__(self, idx):\n",
    "        DatPath = self.DatPath[idx]\n",
    "        HdrPath = self.HdrPath[idx]\n",
    "\n",
    "        # 读取图像\n",
    "        img = spectral.envi.open(HdrPath, DatPath)\n",
    "        img = img.read_bands(range(img.shape[2])) #读取全部的光谱维度\n",
    "        img = self.pca.transforms(img) # 主成分分析\n",
    "        img = img/65536\n",
    "        img = img.transpose([2,0,1])\n",
    "        img = torch.FloatTensor(img)\n",
    "        # img = transforms.RandomCrop(self.ImageWidth)(img) # 将图像裁剪到一定的输入大小上，保证输入的一致性\n",
    "        img = transforms.CenterCrop(self.ImageWidth)(img) # 将图像裁剪到一定的输入大小上，保证输入的一致性\n",
    "\n",
    "        return img,torch.FloatTensor([self.label[idx]])\n",
    "\n",
    "    def get_class(self, idx) :\n",
    "        return self.DatPath[idx].split(config.SPLIT_SIGN)[-2]\n",
    "\n",
    "    def get_fakeimg(self, idx) :\n",
    "        DatPath = self.DatPath[idx]\n",
    "        HdrPath = self.HdrPath[idx]\n",
    "\n",
    "        # 读取图像\n",
    "        img = spectral.envi.open(HdrPath, DatPath)\n",
    "        red = img.read_band(241) #读取红光谱维度\n",
    "        green = img.read_band(151)\n",
    "        blue = img.read_band(71)\n",
    "        img = np.stack([red,green,blue],axis=2)\n",
    "        img = cv2.resize(img, (self.ImageWidth, self.ImageHeight))\n",
    "        img = img/65536\n",
    "\n",
    "        return img\n",
    "        "
   ]
  },
  {
   "cell_type": "markdown",
   "metadata": {},
   "source": [
    "## 2.1 创建Dataset和Dataloader\n",
    "\n"
   ]
  },
  {
   "cell_type": "code",
   "execution_count": 13,
   "metadata": {},
   "outputs": [
    {
     "name": "stdout",
     "output_type": "stream",
     "text": [
      "(62500, 603)\n",
      "(102500, 603)\n",
      "(142500, 603)\n",
      "(182500, 603)\n",
      "(222500, 603)\n",
      "(285000, 603)\n",
      "(335000, 603)\n",
      "(397500, 603)\n",
      "(437500, 603)\n",
      "(500000, 603)\n",
      "(548400, 603)\n",
      "(596800, 603)\n",
      "(645200, 603)\n",
      "(707700, 603)\n",
      "(747700, 603)\n",
      "(787700, 603)\n",
      "(827700, 603)\n",
      "(867700, 603)\n",
      "(907700, 603)\n",
      "(947700, 603)\n",
      "(987700, 603)\n",
      "(1027700, 603)\n",
      "(1067700, 603)\n",
      "(1107700, 603)\n",
      "(1147700, 603)\n",
      "(1187700, 603)\n",
      "(1227700, 603)\n",
      "(1267700, 603)\n",
      "(1307700, 603)\n",
      "(1347700, 603)\n",
      "(1387700, 603)\n"
     ]
    }
   ],
   "source": [
    "# 获取训练集图像\n",
    "from tkinter import Label\n",
    "\n",
    "\n",
    "TrainImageRoot = config.TrainImageRoot\n",
    "TrainDatPath = []\n",
    "TrainHdrPath = []\n",
    "TrainLabel = []\n",
    "for root, dirs, files in os.walk(TrainImageRoot):\n",
    "    for file in files:\n",
    "        if file.split('.')[-1] == 'hdr' :\n",
    "            TrainHdrPath.append(os.path.join(root, file))\n",
    "        elif file.split('.')[-1] == 'dat' :\n",
    "            TrainDatPath.append(os.path.join(root, file))\n",
    "\n",
    "\n",
    "TrainHdrPath.sort()\n",
    "TrainDatPath.sort()\n",
    "\n",
    "# 根据文件地址创建label\n",
    "for i in TrainHdrPath : \n",
    "    if i.split(config.SPLIT_SIGN)[-2] == 'danggui1' :\n",
    "        TrainLabel.append(0)\n",
    "    else :\n",
    "        TrainLabel.append(1)\n",
    "\n",
    "train_dataset = TrainDataset(TrainDatPath,TrainHdrPath,TrainLabel,config.IMG_WIDTH, config.IMG_HIGHT)\n",
    "\n",
    "TestImageRoot = config.TestImageRoot\n",
    "TestDatPath = []\n",
    "TestHdrPath = []\n",
    "TestLabel = []\n",
    "for root, dirs, files in os.walk(TestImageRoot):\n",
    "    for file in files:\n",
    "        if file.split('.')[-1] == 'hdr' :\n",
    "            TestHdrPath.append(os.path.join(root, file))\n",
    "        elif file.split('.')[-1] == 'dat' :\n",
    "            TestDatPath.append(os.path.join(root, file))\n",
    "\n",
    "\n",
    "TestHdrPath.sort()\n",
    "TestDatPath.sort()\n",
    "\n",
    "# 根据文件地址创建label\n",
    "for i in TestHdrPath : \n",
    "    if i.split(config.SPLIT_SIGN)[-2] == 'danggui1' :\n",
    "        TestLabel.append(0)\n",
    "    else :\n",
    "        TestLabel.append(1)\n",
    "\n",
    "# train_dataset = TrainDataset(TrainDatPath,TrainHdrPath,TrainLabel,config.IMG_WIDTH, config.IMG_HIGHT)\n",
    "test_dataset = TrainDataset(TestDatPath,TestHdrPath,TestLabel,config.IMG_WIDTH, config.IMG_HIGHT)\n",
    "\n",
    "# 根据图像数据进行PCA\n",
    "# 按顺序读取图像\n",
    "data = np.ones((0,603))\n",
    "for i in range(len(TrainHdrPath)) :\n",
    "    hdr,dat = TrainHdrPath[i],TrainDatPath[i]\n",
    "# for hdr,dat in (TrainHdrPath,TrainDatPath) :\n",
    "    img = spectral.envi.open(hdr, dat)\n",
    "    img = img.read_bands(range(img.shape[2])) #读取全部的光谱维度\n",
    "    img = img.reshape(-1,img.shape[2])\n",
    "    data = np.vstack([data,img])\n",
    "    print(data.shape)\n",
    "\n",
    "pca = PCA(0.95)\n",
    "pca.fit(data)\n",
    "\n",
    "# 利用DataLoader生成一个分batch获取数据的可迭代对象\n",
    "train_dataloader = DataLoader(train_dataset, batch_size=1, shuffle=True, num_workers=0)\n",
    "test_dataloader = DataLoader(test_dataset, batch_size=1, shuffle=True, num_workers=0)\n",
    "\n"
   ]
  },
  {
   "cell_type": "code",
   "execution_count": 14,
   "metadata": {},
   "outputs": [
    {
     "ename": "MemoryError",
     "evalue": "Unable to allocate 6.23 GiB for an array with shape (1387700, 603) and data type float64",
     "output_type": "error",
     "traceback": [
      "\u001b[1;31m---------------------------------------------------------------------------\u001b[0m",
      "\u001b[1;31mMemoryError\u001b[0m                               Traceback (most recent call last)",
      "\u001b[1;32m~\\AppData\\Local\\Temp/ipykernel_41348/646745305.py\u001b[0m in \u001b[0;36m<module>\u001b[1;34m\u001b[0m\n\u001b[0;32m      1\u001b[0m \u001b[0mpca\u001b[0m \u001b[1;33m=\u001b[0m \u001b[0mPCA\u001b[0m\u001b[1;33m(\u001b[0m\u001b[1;36m0.95\u001b[0m\u001b[1;33m)\u001b[0m\u001b[1;33m\u001b[0m\u001b[1;33m\u001b[0m\u001b[0m\n\u001b[1;32m----> 2\u001b[1;33m \u001b[0mpca\u001b[0m\u001b[1;33m.\u001b[0m\u001b[0mfit\u001b[0m\u001b[1;33m(\u001b[0m\u001b[0mdata\u001b[0m\u001b[1;33m)\u001b[0m\u001b[1;33m\u001b[0m\u001b[1;33m\u001b[0m\u001b[0m\n\u001b[0m",
      "\u001b[1;32md:\\function\\anaconda3\\envs\\pytorch\\lib\\site-packages\\sklearn\\decomposition\\_pca.py\u001b[0m in \u001b[0;36mfit\u001b[1;34m(self, X, y)\u001b[0m\n\u001b[0;32m    380\u001b[0m             \u001b[0mReturns\u001b[0m \u001b[0mthe\u001b[0m \u001b[0minstance\u001b[0m \u001b[0mitself\u001b[0m\u001b[1;33m.\u001b[0m\u001b[1;33m\u001b[0m\u001b[1;33m\u001b[0m\u001b[0m\n\u001b[0;32m    381\u001b[0m         \"\"\"\n\u001b[1;32m--> 382\u001b[1;33m         \u001b[0mself\u001b[0m\u001b[1;33m.\u001b[0m\u001b[0m_fit\u001b[0m\u001b[1;33m(\u001b[0m\u001b[0mX\u001b[0m\u001b[1;33m)\u001b[0m\u001b[1;33m\u001b[0m\u001b[1;33m\u001b[0m\u001b[0m\n\u001b[0m\u001b[0;32m    383\u001b[0m         \u001b[1;32mreturn\u001b[0m \u001b[0mself\u001b[0m\u001b[1;33m\u001b[0m\u001b[1;33m\u001b[0m\u001b[0m\n\u001b[0;32m    384\u001b[0m \u001b[1;33m\u001b[0m\u001b[0m\n",
      "\u001b[1;32md:\\function\\anaconda3\\envs\\pytorch\\lib\\site-packages\\sklearn\\decomposition\\_pca.py\u001b[0m in \u001b[0;36m_fit\u001b[1;34m(self, X)\u001b[0m\n\u001b[0;32m    455\u001b[0m         \u001b[1;31m# Call different fits for either full or truncated SVD\u001b[0m\u001b[1;33m\u001b[0m\u001b[1;33m\u001b[0m\u001b[1;33m\u001b[0m\u001b[0m\n\u001b[0;32m    456\u001b[0m         \u001b[1;32mif\u001b[0m \u001b[0mself\u001b[0m\u001b[1;33m.\u001b[0m\u001b[0m_fit_svd_solver\u001b[0m \u001b[1;33m==\u001b[0m \u001b[1;34m\"full\"\u001b[0m\u001b[1;33m:\u001b[0m\u001b[1;33m\u001b[0m\u001b[1;33m\u001b[0m\u001b[0m\n\u001b[1;32m--> 457\u001b[1;33m             \u001b[1;32mreturn\u001b[0m \u001b[0mself\u001b[0m\u001b[1;33m.\u001b[0m\u001b[0m_fit_full\u001b[0m\u001b[1;33m(\u001b[0m\u001b[0mX\u001b[0m\u001b[1;33m,\u001b[0m \u001b[0mn_components\u001b[0m\u001b[1;33m)\u001b[0m\u001b[1;33m\u001b[0m\u001b[1;33m\u001b[0m\u001b[0m\n\u001b[0m\u001b[0;32m    458\u001b[0m         \u001b[1;32melif\u001b[0m \u001b[0mself\u001b[0m\u001b[1;33m.\u001b[0m\u001b[0m_fit_svd_solver\u001b[0m \u001b[1;32min\u001b[0m \u001b[1;33m[\u001b[0m\u001b[1;34m\"arpack\"\u001b[0m\u001b[1;33m,\u001b[0m \u001b[1;34m\"randomized\"\u001b[0m\u001b[1;33m]\u001b[0m\u001b[1;33m:\u001b[0m\u001b[1;33m\u001b[0m\u001b[1;33m\u001b[0m\u001b[0m\n\u001b[0;32m    459\u001b[0m             \u001b[1;32mreturn\u001b[0m \u001b[0mself\u001b[0m\u001b[1;33m.\u001b[0m\u001b[0m_fit_truncated\u001b[0m\u001b[1;33m(\u001b[0m\u001b[0mX\u001b[0m\u001b[1;33m,\u001b[0m \u001b[0mn_components\u001b[0m\u001b[1;33m,\u001b[0m \u001b[0mself\u001b[0m\u001b[1;33m.\u001b[0m\u001b[0m_fit_svd_solver\u001b[0m\u001b[1;33m)\u001b[0m\u001b[1;33m\u001b[0m\u001b[1;33m\u001b[0m\u001b[0m\n",
      "\u001b[1;32md:\\function\\anaconda3\\envs\\pytorch\\lib\\site-packages\\sklearn\\decomposition\\_pca.py\u001b[0m in \u001b[0;36m_fit_full\u001b[1;34m(self, X, n_components)\u001b[0m\n\u001b[0;32m    490\u001b[0m         \u001b[0mX\u001b[0m \u001b[1;33m-=\u001b[0m \u001b[0mself\u001b[0m\u001b[1;33m.\u001b[0m\u001b[0mmean_\u001b[0m\u001b[1;33m\u001b[0m\u001b[1;33m\u001b[0m\u001b[0m\n\u001b[0;32m    491\u001b[0m \u001b[1;33m\u001b[0m\u001b[0m\n\u001b[1;32m--> 492\u001b[1;33m         \u001b[0mU\u001b[0m\u001b[1;33m,\u001b[0m \u001b[0mS\u001b[0m\u001b[1;33m,\u001b[0m \u001b[0mVt\u001b[0m \u001b[1;33m=\u001b[0m \u001b[0mlinalg\u001b[0m\u001b[1;33m.\u001b[0m\u001b[0msvd\u001b[0m\u001b[1;33m(\u001b[0m\u001b[0mX\u001b[0m\u001b[1;33m,\u001b[0m \u001b[0mfull_matrices\u001b[0m\u001b[1;33m=\u001b[0m\u001b[1;32mFalse\u001b[0m\u001b[1;33m)\u001b[0m\u001b[1;33m\u001b[0m\u001b[1;33m\u001b[0m\u001b[0m\n\u001b[0m\u001b[0;32m    493\u001b[0m         \u001b[1;31m# flip eigenvectors' sign to enforce deterministic output\u001b[0m\u001b[1;33m\u001b[0m\u001b[1;33m\u001b[0m\u001b[1;33m\u001b[0m\u001b[0m\n\u001b[0;32m    494\u001b[0m         \u001b[0mU\u001b[0m\u001b[1;33m,\u001b[0m \u001b[0mVt\u001b[0m \u001b[1;33m=\u001b[0m \u001b[0msvd_flip\u001b[0m\u001b[1;33m(\u001b[0m\u001b[0mU\u001b[0m\u001b[1;33m,\u001b[0m \u001b[0mVt\u001b[0m\u001b[1;33m)\u001b[0m\u001b[1;33m\u001b[0m\u001b[1;33m\u001b[0m\u001b[0m\n",
      "\u001b[1;32md:\\function\\anaconda3\\envs\\pytorch\\lib\\site-packages\\scipy\\linalg\\_decomp_svd.py\u001b[0m in \u001b[0;36msvd\u001b[1;34m(a, full_matrices, compute_uv, overwrite_a, check_finite, lapack_driver)\u001b[0m\n\u001b[0;32m    125\u001b[0m \u001b[1;33m\u001b[0m\u001b[0m\n\u001b[0;32m    126\u001b[0m     \u001b[1;31m# perform decomposition\u001b[0m\u001b[1;33m\u001b[0m\u001b[1;33m\u001b[0m\u001b[1;33m\u001b[0m\u001b[0m\n\u001b[1;32m--> 127\u001b[1;33m     u, s, v, info = gesXd(a1, compute_uv=compute_uv, lwork=lwork,\n\u001b[0m\u001b[0;32m    128\u001b[0m                           full_matrices=full_matrices, overwrite_a=overwrite_a)\n\u001b[0;32m    129\u001b[0m \u001b[1;33m\u001b[0m\u001b[0m\n",
      "\u001b[1;31mMemoryError\u001b[0m: Unable to allocate 6.23 GiB for an array with shape (1387700, 603) and data type float64"
     ]
    }
   ],
   "source": [
    "pca = PCA(0.95)\n",
    "pca.fit(data)"
   ]
  },
  {
   "cell_type": "markdown",
   "metadata": {},
   "source": [
    "## 2.2展示一份数据\n",
    "用于验证Dataset返回的一份数据"
   ]
  },
  {
   "cell_type": "code",
   "execution_count": 6,
   "metadata": {},
   "outputs": [
    {
     "name": "stdout",
     "output_type": "stream",
     "text": [
      "(100, 100, 3)\n"
     ]
    },
    {
     "data": {
      "image/png": "[encoded data removed]",
      "text/plain": [
       "<Figure size 720x720 with 1 Axes>"
      ]
     },
     "metadata": {
      "needs_background": "light"
     },
     "output_type": "display_data"
    }
   ],
   "source": [
    "import random\n",
    "import visualize\n",
    "\n",
    "# Load and display random samples\n",
    "image_id = random.randint(0,len(train_dataset)-1)\n",
    "# image_name = train_dataset.get_class(image_id)\n",
    "image_name = train_dataset.get_class(image_id)\n",
    "img = train_dataset.get_fakeimg(image_id)\n",
    "\n",
    "print(img.shape)\n",
    "\n",
    "visualize.display_images([img],cols = 1,titles = [image_name],cmap = 'gray')\n"
   ]
  },
  {
   "cell_type": "code",
   "execution_count": 7,
   "metadata": {},
   "outputs": [
    {
     "ename": "TypeError",
     "evalue": "'PCA' object is not callable",
     "output_type": "error",
     "traceback": [
      "\u001b[1;31m---------------------------------------------------------------------------\u001b[0m",
      "\u001b[1;31mTypeError\u001b[0m                                 Traceback (most recent call last)",
      "\u001b[1;32m~\\AppData\\Local\\Temp/ipykernel_41348/4132659667.py\u001b[0m in \u001b[0;36m<module>\u001b[1;34m\u001b[0m\n\u001b[1;32m----> 1\u001b[1;33m \u001b[0mimg\u001b[0m\u001b[1;33m,\u001b[0m\u001b[0mlabel\u001b[0m \u001b[1;33m=\u001b[0m \u001b[0mtrain_dataset\u001b[0m\u001b[1;33m[\u001b[0m\u001b[0mimage_id\u001b[0m\u001b[1;33m]\u001b[0m\u001b[1;33m\u001b[0m\u001b[1;33m\u001b[0m\u001b[0m\n\u001b[0m\u001b[0;32m      2\u001b[0m \u001b[0mprint\u001b[0m\u001b[1;33m(\u001b[0m\u001b[0mimg\u001b[0m\u001b[1;33m.\u001b[0m\u001b[0mshape\u001b[0m\u001b[1;33m)\u001b[0m\u001b[1;33m\u001b[0m\u001b[1;33m\u001b[0m\u001b[0m\n\u001b[0;32m      3\u001b[0m \u001b[0mprint\u001b[0m\u001b[1;33m(\u001b[0m\u001b[0mlabel\u001b[0m\u001b[1;33m)\u001b[0m\u001b[1;33m\u001b[0m\u001b[1;33m\u001b[0m\u001b[0m\n\u001b[0;32m      4\u001b[0m \u001b[0mprint\u001b[0m\u001b[1;33m(\u001b[0m\u001b[0mlen\u001b[0m\u001b[1;33m(\u001b[0m\u001b[0mtrain_dataset\u001b[0m\u001b[1;33m)\u001b[0m\u001b[1;33m)\u001b[0m\u001b[1;33m\u001b[0m\u001b[1;33m\u001b[0m\u001b[0m\n",
      "\u001b[1;32m~\\AppData\\Local\\Temp/ipykernel_41348/80335386.py\u001b[0m in \u001b[0;36m__getitem__\u001b[1;34m(self, idx)\u001b[0m\n\u001b[0;32m     25\u001b[0m         \u001b[0mimg\u001b[0m \u001b[1;33m=\u001b[0m \u001b[0mspectral\u001b[0m\u001b[1;33m.\u001b[0m\u001b[0menvi\u001b[0m\u001b[1;33m.\u001b[0m\u001b[0mopen\u001b[0m\u001b[1;33m(\u001b[0m\u001b[0mHdrPath\u001b[0m\u001b[1;33m,\u001b[0m \u001b[0mDatPath\u001b[0m\u001b[1;33m)\u001b[0m\u001b[1;33m\u001b[0m\u001b[1;33m\u001b[0m\u001b[0m\n\u001b[0;32m     26\u001b[0m         \u001b[0mimg\u001b[0m \u001b[1;33m=\u001b[0m \u001b[0mimg\u001b[0m\u001b[1;33m.\u001b[0m\u001b[0mread_bands\u001b[0m\u001b[1;33m(\u001b[0m\u001b[0mrange\u001b[0m\u001b[1;33m(\u001b[0m\u001b[0mimg\u001b[0m\u001b[1;33m.\u001b[0m\u001b[0mshape\u001b[0m\u001b[1;33m[\u001b[0m\u001b[1;36m2\u001b[0m\u001b[1;33m]\u001b[0m\u001b[1;33m)\u001b[0m\u001b[1;33m)\u001b[0m \u001b[1;31m#读取全部的光谱维度\u001b[0m\u001b[1;33m\u001b[0m\u001b[1;33m\u001b[0m\u001b[0m\n\u001b[1;32m---> 27\u001b[1;33m         \u001b[0mimg\u001b[0m \u001b[1;33m=\u001b[0m \u001b[0mself\u001b[0m\u001b[1;33m.\u001b[0m\u001b[0mpca\u001b[0m\u001b[1;33m(\u001b[0m\u001b[0mimg\u001b[0m\u001b[1;33m)\u001b[0m \u001b[1;31m# 主成分分析\u001b[0m\u001b[1;33m\u001b[0m\u001b[1;33m\u001b[0m\u001b[0m\n\u001b[0m\u001b[0;32m     28\u001b[0m         \u001b[0mimg\u001b[0m \u001b[1;33m=\u001b[0m \u001b[0mimg\u001b[0m\u001b[1;33m/\u001b[0m\u001b[1;36m65536\u001b[0m\u001b[1;33m\u001b[0m\u001b[1;33m\u001b[0m\u001b[0m\n\u001b[0;32m     29\u001b[0m         \u001b[0mimg\u001b[0m \u001b[1;33m=\u001b[0m \u001b[0mimg\u001b[0m\u001b[1;33m.\u001b[0m\u001b[0mtranspose\u001b[0m\u001b[1;33m(\u001b[0m\u001b[1;33m[\u001b[0m\u001b[1;36m2\u001b[0m\u001b[1;33m,\u001b[0m\u001b[1;36m0\u001b[0m\u001b[1;33m,\u001b[0m\u001b[1;36m1\u001b[0m\u001b[1;33m]\u001b[0m\u001b[1;33m)\u001b[0m\u001b[1;33m\u001b[0m\u001b[1;33m\u001b[0m\u001b[0m\n",
      "\u001b[1;31mTypeError\u001b[0m: 'PCA' object is not callable"
     ]
    }
   ],
   "source": [
    "img,label = train_dataset[image_id]\n",
    "print(img.shape)\n",
    "print(label)\n",
    "print(len(train_dataset))"
   ]
  },
  {
   "cell_type": "markdown",
   "metadata": {},
   "source": [
    "# 3.训练\n",
    "训练初始化\n",
    "- 创建模型实例，导入模型参数()\n",
    "- 定义损失函数，实例化损失函数\n",
    "- 定义优化器\n",
    "- 定义训练过程指标记录变量(如何合理的)\n",
    "\n",
    "训练开始\n",
    "- 循环导入Dataloader数据\n",
    "- 初始化优化器\n",
    "- 模型前向传播\n",
    "- 计算损失函数\n",
    "- 损失函数反向传播\n",
    "- 优化器进行优化\n",
    "- 保存损失等相关训练参数\n",
    "\n",
    "训练结束\n",
    "- 保存训练模型，保存过程数据\n",
    "- 绘制训练曲线"
   ]
  },
  {
   "cell_type": "markdown",
   "metadata": {},
   "source": [
    "## 3.1 训练参数定义"
   ]
  },
  {
   "cell_type": "code",
   "execution_count": 7,
   "metadata": {},
   "outputs": [
    {
     "name": "stdout",
     "output_type": "stream",
     "text": [
      "start from scratch, start epoch: 0 end epoch: 49\n"
     ]
    }
   ],
   "source": [
    "# 决定初始化模型的版本号save_code\n",
    "# None表示从零开始训练\n",
    "# 其他数字表示从保存的版本号开始训练保存的版本号开始训练\n",
    "# 从中导入之前的模型和训练曲线，以及开始的epoch\n",
    "# 起始输入版本\n",
    "start_save_code = None\n",
    "# 目标输出版本\n",
    "\n",
    "# 训练epoch数\n",
    "epoch_num = 50\n",
    "# 每隔几个epoch更新一次保存序号\n",
    "save_epoch = 1\n",
    "# 创建模型实例\n",
    "model = MyModel.HSI_CLS_model(603)\n",
    "if start_save_code == None :\n",
    "    # 初始化训练曲线\n",
    "    all_train_total_loss = []\n",
    "    all_test_total_loss = []\n",
    "    #初始epoch为0\n",
    "    start_epoch = 0\n",
    "    print(\"start from scratch, start epoch:\",start_epoch, \"end epoch:\", start_epoch+epoch_num-1)\n",
    "else :\n",
    "    # 导入模型参数\n",
    "    model.load_state_dict(torch.load(f\"./checkpoints/{start_save_code}_model_param.pth\"))\n",
    "    # 导入训练曲线\n",
    "    model_curve = torch.load(f\"./checkpoints/{start_save_code}_model_curve.pth\")\n",
    "    all_train_total_loss = model_curve[\"all_train_total_loss\"]\n",
    "    all_test_total_loss = model_curve[\"all_test_total_loss\"]\n",
    "    # 初始epoch为训练曲线的长度\n",
    "    start_epoch = len(all_train_total_loss)\n",
    "    print(f\"start from model {start_save_code} start_epoch:\",start_epoch, \"end epoch:\", start_epoch+epoch_num-1)\n",
    "\n",
    "    # 绘制训练过程曲线\n",
    "    plt.figure(figsize=(9,6), dpi=80)\n",
    "    # plt.subplot(121)\n",
    "    plt.title('previews training curve')\n",
    "    plt.plot(all_train_total_loss,label=\"train_loss\")\n",
    "    plt.plot(all_test_total_loss,label=\"test_loss\")\n",
    "    plt.legend(loc='upper right')\n",
    "    plt.xlabel('epoch')\n",
    "\n",
    "save_code = \"hsi_res50\"\n",
    "end_save_code = f\"{save_code}_{start_epoch//save_epoch:02d}\"\n"
   ]
  },
  {
   "cell_type": "markdown",
   "metadata": {},
   "source": [
    "## 3.2 开始训练"
   ]
  },
  {
   "cell_type": "code",
   "execution_count": 8,
   "metadata": {},
   "outputs": [
    {
     "data": {
      "image/png": "[encoded data removed]",
      "text/plain": [
       "<Figure size 720x480 with 1 Axes>"
      ]
     },
     "metadata": {
      "needs_background": "light"
     },
     "output_type": "display_data"
    },
    {
     "name": "stdout",
     "output_type": "stream",
     "text": [
      "<---------------------------------------------------->\n",
      "epoch: 19.000000\n",
      "epoch train loss = 0.737063, epoch test loss = 0.738124, Time 00:00:12\n",
      "saving checkpoints/hsi_res50_19_model_param.pth\n",
      "epoch20 training\n"
     ]
    },
    {
     "name": "stderr",
     "output_type": "stream",
     "text": [
      " 61%|██████▏   | 19/31 [00:05<00:03,  3.25it/s]\n"
     ]
    },
    {
     "ename": "KeyboardInterrupt",
     "evalue": "",
     "output_type": "error",
     "traceback": [
      "\u001b[1;31m---------------------------------------------------------------------------\u001b[0m",
      "\u001b[1;31mKeyboardInterrupt\u001b[0m                         Traceback (most recent call last)",
      "\u001b[1;32m~\\AppData\\Local\\Temp/ipykernel_19856/2551630744.py\u001b[0m in \u001b[0;36m<module>\u001b[1;34m\u001b[0m\n\u001b[0;32m     23\u001b[0m     \u001b[1;31m# 导入Dataloader数据\u001b[0m\u001b[1;33m\u001b[0m\u001b[1;33m\u001b[0m\u001b[1;33m\u001b[0m\u001b[0m\n\u001b[0;32m     24\u001b[0m \u001b[1;33m\u001b[0m\u001b[0m\n\u001b[1;32m---> 25\u001b[1;33m     \u001b[1;32mfor\u001b[0m \u001b[0mindex\u001b[0m\u001b[1;33m,\u001b[0m \u001b[1;33m(\u001b[0m\u001b[0mimg\u001b[0m\u001b[1;33m,\u001b[0m\u001b[0mlabel\u001b[0m\u001b[1;33m)\u001b[0m \u001b[1;32min\u001b[0m \u001b[0mtqdm\u001b[0m\u001b[1;33m(\u001b[0m\u001b[0menumerate\u001b[0m\u001b[1;33m(\u001b[0m\u001b[0mtrain_dataloader\u001b[0m\u001b[1;33m)\u001b[0m\u001b[1;33m,\u001b[0m\u001b[0mtotal\u001b[0m \u001b[1;33m=\u001b[0m \u001b[0mlen\u001b[0m\u001b[1;33m(\u001b[0m\u001b[0mtrain_dataloader\u001b[0m\u001b[1;33m)\u001b[0m\u001b[1;33m)\u001b[0m\u001b[1;33m:\u001b[0m\u001b[1;33m\u001b[0m\u001b[1;33m\u001b[0m\u001b[0m\n\u001b[0m\u001b[0;32m     26\u001b[0m \u001b[1;33m\u001b[0m\u001b[0m\n\u001b[0;32m     27\u001b[0m         \u001b[0mimg\u001b[0m \u001b[1;33m=\u001b[0m \u001b[0mimg\u001b[0m\u001b[1;33m.\u001b[0m\u001b[0mto\u001b[0m\u001b[1;33m(\u001b[0m\u001b[0mdevice\u001b[0m\u001b[1;33m)\u001b[0m \u001b[1;31m# 训练普通AE\u001b[0m\u001b[1;33m\u001b[0m\u001b[1;33m\u001b[0m\u001b[0m\n",
      "\u001b[1;32md:\\function\\anaconda3\\envs\\pytorch\\lib\\site-packages\\tqdm\\std.py\u001b[0m in \u001b[0;36m__iter__\u001b[1;34m(self)\u001b[0m\n\u001b[0;32m   1176\u001b[0m \u001b[1;33m\u001b[0m\u001b[0m\n\u001b[0;32m   1177\u001b[0m         \u001b[1;32mtry\u001b[0m\u001b[1;33m:\u001b[0m\u001b[1;33m\u001b[0m\u001b[1;33m\u001b[0m\u001b[0m\n\u001b[1;32m-> 1178\u001b[1;33m             \u001b[1;32mfor\u001b[0m \u001b[0mobj\u001b[0m \u001b[1;32min\u001b[0m \u001b[0miterable\u001b[0m\u001b[1;33m:\u001b[0m\u001b[1;33m\u001b[0m\u001b[1;33m\u001b[0m\u001b[0m\n\u001b[0m\u001b[0;32m   1179\u001b[0m                 \u001b[1;32myield\u001b[0m \u001b[0mobj\u001b[0m\u001b[1;33m\u001b[0m\u001b[1;33m\u001b[0m\u001b[0m\n\u001b[0;32m   1180\u001b[0m                 \u001b[1;31m# Update and possibly print the progressbar.\u001b[0m\u001b[1;33m\u001b[0m\u001b[1;33m\u001b[0m\u001b[1;33m\u001b[0m\u001b[0m\n",
      "\u001b[1;32md:\\function\\anaconda3\\envs\\pytorch\\lib\\site-packages\\torch\\utils\\data\\dataloader.py\u001b[0m in \u001b[0;36m__next__\u001b[1;34m(self)\u001b[0m\n\u001b[0;32m    519\u001b[0m             \u001b[1;32mif\u001b[0m \u001b[0mself\u001b[0m\u001b[1;33m.\u001b[0m\u001b[0m_sampler_iter\u001b[0m \u001b[1;32mis\u001b[0m \u001b[1;32mNone\u001b[0m\u001b[1;33m:\u001b[0m\u001b[1;33m\u001b[0m\u001b[1;33m\u001b[0m\u001b[0m\n\u001b[0;32m    520\u001b[0m                 \u001b[0mself\u001b[0m\u001b[1;33m.\u001b[0m\u001b[0m_reset\u001b[0m\u001b[1;33m(\u001b[0m\u001b[1;33m)\u001b[0m\u001b[1;33m\u001b[0m\u001b[1;33m\u001b[0m\u001b[0m\n\u001b[1;32m--> 521\u001b[1;33m             \u001b[0mdata\u001b[0m \u001b[1;33m=\u001b[0m \u001b[0mself\u001b[0m\u001b[1;33m.\u001b[0m\u001b[0m_next_data\u001b[0m\u001b[1;33m(\u001b[0m\u001b[1;33m)\u001b[0m\u001b[1;33m\u001b[0m\u001b[1;33m\u001b[0m\u001b[0m\n\u001b[0m\u001b[0;32m    522\u001b[0m             \u001b[0mself\u001b[0m\u001b[1;33m.\u001b[0m\u001b[0m_num_yielded\u001b[0m \u001b[1;33m+=\u001b[0m \u001b[1;36m1\u001b[0m\u001b[1;33m\u001b[0m\u001b[1;33m\u001b[0m\u001b[0m\n\u001b[0;32m    523\u001b[0m             \u001b[1;32mif\u001b[0m \u001b[0mself\u001b[0m\u001b[1;33m.\u001b[0m\u001b[0m_dataset_kind\u001b[0m \u001b[1;33m==\u001b[0m \u001b[0m_DatasetKind\u001b[0m\u001b[1;33m.\u001b[0m\u001b[0mIterable\u001b[0m \u001b[1;32mand\u001b[0m\u001b[0;31m \u001b[0m\u001b[0;31m\\\u001b[0m\u001b[1;33m\u001b[0m\u001b[1;33m\u001b[0m\u001b[0m\n",
      "\u001b[1;32md:\\function\\anaconda3\\envs\\pytorch\\lib\\site-packages\\torch\\utils\\data\\dataloader.py\u001b[0m in \u001b[0;36m_next_data\u001b[1;34m(self)\u001b[0m\n\u001b[0;32m    559\u001b[0m     \u001b[1;32mdef\u001b[0m \u001b[0m_next_data\u001b[0m\u001b[1;33m(\u001b[0m\u001b[0mself\u001b[0m\u001b[1;33m)\u001b[0m\u001b[1;33m:\u001b[0m\u001b[1;33m\u001b[0m\u001b[1;33m\u001b[0m\u001b[0m\n\u001b[0;32m    560\u001b[0m         \u001b[0mindex\u001b[0m \u001b[1;33m=\u001b[0m \u001b[0mself\u001b[0m\u001b[1;33m.\u001b[0m\u001b[0m_next_index\u001b[0m\u001b[1;33m(\u001b[0m\u001b[1;33m)\u001b[0m  \u001b[1;31m# may raise StopIteration\u001b[0m\u001b[1;33m\u001b[0m\u001b[1;33m\u001b[0m\u001b[0m\n\u001b[1;32m--> 561\u001b[1;33m         \u001b[0mdata\u001b[0m \u001b[1;33m=\u001b[0m \u001b[0mself\u001b[0m\u001b[1;33m.\u001b[0m\u001b[0m_dataset_fetcher\u001b[0m\u001b[1;33m.\u001b[0m\u001b[0mfetch\u001b[0m\u001b[1;33m(\u001b[0m\u001b[0mindex\u001b[0m\u001b[1;33m)\u001b[0m  \u001b[1;31m# may raise StopIteration\u001b[0m\u001b[1;33m\u001b[0m\u001b[1;33m\u001b[0m\u001b[0m\n\u001b[0m\u001b[0;32m    562\u001b[0m         \u001b[1;32mif\u001b[0m \u001b[0mself\u001b[0m\u001b[1;33m.\u001b[0m\u001b[0m_pin_memory\u001b[0m\u001b[1;33m:\u001b[0m\u001b[1;33m\u001b[0m\u001b[1;33m\u001b[0m\u001b[0m\n\u001b[0;32m    563\u001b[0m             \u001b[0mdata\u001b[0m \u001b[1;33m=\u001b[0m \u001b[0m_utils\u001b[0m\u001b[1;33m.\u001b[0m\u001b[0mpin_memory\u001b[0m\u001b[1;33m.\u001b[0m\u001b[0mpin_memory\u001b[0m\u001b[1;33m(\u001b[0m\u001b[0mdata\u001b[0m\u001b[1;33m)\u001b[0m\u001b[1;33m\u001b[0m\u001b[1;33m\u001b[0m\u001b[0m\n",
      "\u001b[1;32md:\\function\\anaconda3\\envs\\pytorch\\lib\\site-packages\\torch\\utils\\data\\_utils\\fetch.py\u001b[0m in \u001b[0;36mfetch\u001b[1;34m(self, possibly_batched_index)\u001b[0m\n\u001b[0;32m     47\u001b[0m     \u001b[1;32mdef\u001b[0m \u001b[0mfetch\u001b[0m\u001b[1;33m(\u001b[0m\u001b[0mself\u001b[0m\u001b[1;33m,\u001b[0m \u001b[0mpossibly_batched_index\u001b[0m\u001b[1;33m)\u001b[0m\u001b[1;33m:\u001b[0m\u001b[1;33m\u001b[0m\u001b[1;33m\u001b[0m\u001b[0m\n\u001b[0;32m     48\u001b[0m         \u001b[1;32mif\u001b[0m \u001b[0mself\u001b[0m\u001b[1;33m.\u001b[0m\u001b[0mauto_collation\u001b[0m\u001b[1;33m:\u001b[0m\u001b[1;33m\u001b[0m\u001b[1;33m\u001b[0m\u001b[0m\n\u001b[1;32m---> 49\u001b[1;33m             \u001b[0mdata\u001b[0m \u001b[1;33m=\u001b[0m \u001b[1;33m[\u001b[0m\u001b[0mself\u001b[0m\u001b[1;33m.\u001b[0m\u001b[0mdataset\u001b[0m\u001b[1;33m[\u001b[0m\u001b[0midx\u001b[0m\u001b[1;33m]\u001b[0m \u001b[1;32mfor\u001b[0m \u001b[0midx\u001b[0m \u001b[1;32min\u001b[0m \u001b[0mpossibly_batched_index\u001b[0m\u001b[1;33m]\u001b[0m\u001b[1;33m\u001b[0m\u001b[1;33m\u001b[0m\u001b[0m\n\u001b[0m\u001b[0;32m     50\u001b[0m         \u001b[1;32melse\u001b[0m\u001b[1;33m:\u001b[0m\u001b[1;33m\u001b[0m\u001b[1;33m\u001b[0m\u001b[0m\n\u001b[0;32m     51\u001b[0m             \u001b[0mdata\u001b[0m \u001b[1;33m=\u001b[0m \u001b[0mself\u001b[0m\u001b[1;33m.\u001b[0m\u001b[0mdataset\u001b[0m\u001b[1;33m[\u001b[0m\u001b[0mpossibly_batched_index\u001b[0m\u001b[1;33m]\u001b[0m\u001b[1;33m\u001b[0m\u001b[1;33m\u001b[0m\u001b[0m\n",
      "\u001b[1;32md:\\function\\anaconda3\\envs\\pytorch\\lib\\site-packages\\torch\\utils\\data\\_utils\\fetch.py\u001b[0m in \u001b[0;36m<listcomp>\u001b[1;34m(.0)\u001b[0m\n\u001b[0;32m     47\u001b[0m     \u001b[1;32mdef\u001b[0m \u001b[0mfetch\u001b[0m\u001b[1;33m(\u001b[0m\u001b[0mself\u001b[0m\u001b[1;33m,\u001b[0m \u001b[0mpossibly_batched_index\u001b[0m\u001b[1;33m)\u001b[0m\u001b[1;33m:\u001b[0m\u001b[1;33m\u001b[0m\u001b[1;33m\u001b[0m\u001b[0m\n\u001b[0;32m     48\u001b[0m         \u001b[1;32mif\u001b[0m \u001b[0mself\u001b[0m\u001b[1;33m.\u001b[0m\u001b[0mauto_collation\u001b[0m\u001b[1;33m:\u001b[0m\u001b[1;33m\u001b[0m\u001b[1;33m\u001b[0m\u001b[0m\n\u001b[1;32m---> 49\u001b[1;33m             \u001b[0mdata\u001b[0m \u001b[1;33m=\u001b[0m \u001b[1;33m[\u001b[0m\u001b[0mself\u001b[0m\u001b[1;33m.\u001b[0m\u001b[0mdataset\u001b[0m\u001b[1;33m[\u001b[0m\u001b[0midx\u001b[0m\u001b[1;33m]\u001b[0m \u001b[1;32mfor\u001b[0m \u001b[0midx\u001b[0m \u001b[1;32min\u001b[0m \u001b[0mpossibly_batched_index\u001b[0m\u001b[1;33m]\u001b[0m\u001b[1;33m\u001b[0m\u001b[1;33m\u001b[0m\u001b[0m\n\u001b[0m\u001b[0;32m     50\u001b[0m         \u001b[1;32melse\u001b[0m\u001b[1;33m:\u001b[0m\u001b[1;33m\u001b[0m\u001b[1;33m\u001b[0m\u001b[0m\n\u001b[0;32m     51\u001b[0m             \u001b[0mdata\u001b[0m \u001b[1;33m=\u001b[0m \u001b[0mself\u001b[0m\u001b[1;33m.\u001b[0m\u001b[0mdataset\u001b[0m\u001b[1;33m[\u001b[0m\u001b[0mpossibly_batched_index\u001b[0m\u001b[1;33m]\u001b[0m\u001b[1;33m\u001b[0m\u001b[1;33m\u001b[0m\u001b[0m\n",
      "\u001b[1;32m~\\AppData\\Local\\Temp/ipykernel_19856/70318117.py\u001b[0m in \u001b[0;36m__getitem__\u001b[1;34m(self, idx)\u001b[0m\n\u001b[0;32m     26\u001b[0m         \u001b[0mimg\u001b[0m \u001b[1;33m=\u001b[0m \u001b[0mimg\u001b[0m\u001b[1;33m/\u001b[0m\u001b[1;36m65536\u001b[0m\u001b[1;33m\u001b[0m\u001b[1;33m\u001b[0m\u001b[0m\n\u001b[0;32m     27\u001b[0m         \u001b[0mimg\u001b[0m \u001b[1;33m=\u001b[0m \u001b[0mimg\u001b[0m\u001b[1;33m.\u001b[0m\u001b[0mtranspose\u001b[0m\u001b[1;33m(\u001b[0m\u001b[1;33m[\u001b[0m\u001b[1;36m2\u001b[0m\u001b[1;33m,\u001b[0m\u001b[1;36m0\u001b[0m\u001b[1;33m,\u001b[0m\u001b[1;36m1\u001b[0m\u001b[1;33m]\u001b[0m\u001b[1;33m)\u001b[0m\u001b[1;33m\u001b[0m\u001b[1;33m\u001b[0m\u001b[0m\n\u001b[1;32m---> 28\u001b[1;33m         \u001b[0mimg\u001b[0m \u001b[1;33m=\u001b[0m \u001b[0mtorch\u001b[0m\u001b[1;33m.\u001b[0m\u001b[0mFloatTensor\u001b[0m\u001b[1;33m(\u001b[0m\u001b[0mimg\u001b[0m\u001b[1;33m)\u001b[0m\u001b[1;33m\u001b[0m\u001b[1;33m\u001b[0m\u001b[0m\n\u001b[0m\u001b[0;32m     29\u001b[0m         \u001b[1;31m# img = transforms.RandomCrop(self.ImageWidth)(img) # 将图像裁剪到一定的输入大小上，保证输入的一致性\u001b[0m\u001b[1;33m\u001b[0m\u001b[1;33m\u001b[0m\u001b[1;33m\u001b[0m\u001b[0m\n\u001b[0;32m     30\u001b[0m         \u001b[0mimg\u001b[0m \u001b[1;33m=\u001b[0m \u001b[0mtransforms\u001b[0m\u001b[1;33m.\u001b[0m\u001b[0mCenterCrop\u001b[0m\u001b[1;33m(\u001b[0m\u001b[0mself\u001b[0m\u001b[1;33m.\u001b[0m\u001b[0mImageWidth\u001b[0m\u001b[1;33m)\u001b[0m\u001b[1;33m(\u001b[0m\u001b[0mimg\u001b[0m\u001b[1;33m)\u001b[0m \u001b[1;31m# 将图像裁剪到一定的输入大小上，保证输入的一致性\u001b[0m\u001b[1;33m\u001b[0m\u001b[1;33m\u001b[0m\u001b[0m\n",
      "\u001b[1;31mKeyboardInterrupt\u001b[0m: "
     ]
    }
   ],
   "source": [
    "\n",
    "device = torch.device('cuda' if torch.cuda.is_available() else 'cpu')\n",
    "\n",
    "if torch.cuda.is_available() :\n",
    "    torch.cuda.empty_cache() # 释放显存\n",
    "\n",
    "model = model.to(device)\n",
    "# 定义损失函数   这里只有两类，采用二分类常用的损失函数BCE\n",
    "criterion = nn.BCELoss().to(device)\n",
    "# criterion = nn.MSELoss().to(device)\n",
    "# criterion2 = loss.SSIM().to(device)\n",
    "# 定义优化器\n",
    "optimizer = optim.Adam(model.parameters(), lr=0.00001)\n",
    "\n",
    "# 记录开始时间\n",
    "prev_time = datetime.now()\n",
    "\n",
    "for epo in range(start_epoch, start_epoch + epoch_num):\n",
    "    # 训练开始\n",
    "    train_loss = 0 # 记录训练参数\n",
    "    \n",
    "    print(f\"epoch{epo} training\")\n",
    "    model.train() # 模型切换为训练模式，模型参数可以反向传播和梯度下降\n",
    "    # 导入Dataloader数据 \n",
    "    \n",
    "    for index, (img,label) in tqdm(enumerate(train_dataloader),total = len(train_dataloader)):\n",
    "\n",
    "        img = img.to(device) # 训练普通AE\n",
    "        label = label.to(device) \n",
    "        \n",
    "        # 初始化优化器\n",
    "        optimizer.zero_grad()\n",
    "        # 前向传播\n",
    "        pred = model(img)\n",
    "        loss = criterion(pred,label)\n",
    "\n",
    "        # 损失函数前向传播\n",
    "        loss.backward()     # 需要计算导数，则调用backward\n",
    "        # 存储训练参数\n",
    "        train_loss += loss.item()    # .item()返回一个具体的值，一般用于loss和acc\n",
    "\n",
    "        optimizer.step()\n",
    "\n",
    "    # 验证\n",
    "    test_loss = 0\n",
    "    print(f\"epoch{epo} evaluating\")\n",
    "    model.eval() # 模型为验证模式\n",
    "    with torch.no_grad(): # 不做梯度下降\n",
    "        for index, (img, label) in tqdm(enumerate(test_dataloader),total = len(test_dataloader)):\n",
    "            \n",
    "            img = img.to(device)\n",
    "            label = label.to(device)\n",
    "            # 初始化优化器\n",
    "            optimizer.zero_grad()\n",
    "            pred = model(img)\n",
    "            # 计算损失函数\n",
    "            loss = criterion(pred, label)\n",
    "            # 记录相关损失\n",
    "            test_loss += loss.item()\n",
    "\n",
    "\n",
    "    #保存当前epoch的loss以供可视化训练曲线\n",
    "    #放在一起是为了防止在运行完Train后掉线，使得曲线长度不一致\n",
    "    all_train_total_loss.append(train_loss/len(train_dataloader))\n",
    "    all_test_total_loss.append(test_loss/len(test_dataloader))\n",
    "\n",
    "    cur_time = datetime.now()\n",
    "    h, remainder = divmod((cur_time - prev_time).seconds, 3600)\n",
    "    m, s = divmod(remainder, 60)\n",
    "    time_str = \"Time %02d:%02d:%02d\" % (h, m, s)\n",
    "    prev_time = cur_time\n",
    "\n",
    "    visualize.clear_output()# 清除上个epoch的图像输出\n",
    "\n",
    "    # 绘制训练过程曲线\n",
    "    plt.figure(figsize=(9,6), dpi=80)\n",
    "    # plt.subplot(121)\n",
    "    plt.title('total')\n",
    "    plt.plot(all_train_total_loss,label=\"train_loss\")\n",
    "    plt.plot(all_test_total_loss,label=\"test_loss\")\n",
    "    plt.legend(loc='upper right')\n",
    "    plt.xlabel('epoch')\n",
    "    plt.show()\n",
    "\n",
    "    # 显示当前epoch训练结果\n",
    "    print('<---------------------------------------------------->')\n",
    "    print('epoch: %f' % epo)\n",
    "    print('epoch train loss = %f, epoch test loss = %f, %s'\n",
    "            % (train_loss/len(train_dataloader), test_loss/len(test_dataloader), time_str))\n",
    "\n",
    "    # 每5个epoch存储一次模型\n",
    "    if np.mod(epo, save_epoch) == 0:\n",
    "        # 只存储模型参数\n",
    "        end_save_code = f\"{save_code}_{epo//save_epoch:02d}\"\n",
    "    torch.save(model.state_dict(), f'checkpoints/{end_save_code}_model_param.pth')\n",
    "    torch.save({\"all_train_total_loss\":all_train_total_loss,\"all_test_total_loss\":all_test_total_loss}, \\\n",
    "        f'checkpoints/{end_save_code}_model_curve.pth')\n",
    "    print(f'saving checkpoints/{end_save_code}_model_param.pth')\n"
   ]
  },
  {
   "cell_type": "markdown",
   "metadata": {},
   "source": [
    "# 4.实验结果演示\n",
    "待改进，感觉现在太粗糙了"
   ]
  },
  {
   "cell_type": "code",
   "execution_count": 10,
   "metadata": {},
   "outputs": [
    {
     "name": "stdout",
     "output_type": "stream",
     "text": [
      "0.5443611 0.0\n"
     ]
    }
   ],
   "source": [
    "from sklearn.metrics import roc_curve\n",
    "from sklearn.metrics import auc\n",
    "\n",
    "\n",
    "model = MyModel.HSI_CLS_model(603)\n",
    "model.load_state_dict(torch.load(r'checkpoints\\hsi_res50_05_model_param.pth'))\n",
    "model.eval()\n",
    "with torch.no_grad():\n",
    "    image_id = random.randint(0,len(test_dataset)-1)\n",
    "    # image_id = 20\n",
    "    img,label = test_dataset[image_id] # 获取dataset的一个元素\n",
    "    image_name = test_dataset.get_class(image_id)\n",
    "    img = torch.unsqueeze(img, dim=0)   # 扩充img维度以供送入模型进行预测   \n",
    "    pred = model(img)\n",
    "\n",
    "    pred = np.squeeze(pred.numpy()) \n",
    "    label = np.squeeze(label.numpy())\n",
    "\n",
    "    print(pred,label)\n",
    "    # uout = msk\n",
    "\n",
    "    # visualize.display_images([img,msk,dout,residual],cols = 2, rows = 2, titles = [image_name,'mask','dout','residual'],cmap = 'gray')"
   ]
  },
  {
   "cell_type": "markdown",
   "metadata": {},
   "source": [
    "# 5.误差分析"
   ]
  },
  {
   "cell_type": "code",
   "execution_count": 11,
   "metadata": {},
   "outputs": [
    {
     "name": "stderr",
     "output_type": "stream",
     "text": [
      "100%|██████████| 10/10 [00:02<00:00,  3.70it/s]"
     ]
    },
    {
     "name": "stdout",
     "output_type": "stream",
     "text": [
      "rec img roc 0.36000000000000004\n"
     ]
    },
    {
     "name": "stderr",
     "output_type": "stream",
     "text": [
      "\n"
     ]
    }
   ],
   "source": [
    "from sklearn.metrics import roc_curve\n",
    "from sklearn.metrics import auc\n",
    "\n",
    "device = torch.device('cuda' if torch.cuda.is_available() else 'cpu')\n",
    "model = MyModel.HSI_CLS_model(603).to(device)\n",
    "model.load_state_dict(torch.load(r'checkpoints\\hsi_res50_11_model_param.pth'))\n",
    "model.eval()\n",
    "# criterion = nn.BCELoss().to(device)\n",
    "\n",
    "pred_list = []\n",
    "label_list = []\n",
    "\n",
    "mask_cnt = 0\n",
    "with torch.no_grad():\n",
    "    for index in tqdm(range(len(test_dataset))):\n",
    "        img,label = test_dataset[index] # 获取dataset的一个元素        \n",
    "        img = torch.unsqueeze(img, dim=0)   # 扩充img维度以供送入模型进行预测\n",
    "        img = img.to(device)   \n",
    "        pred = model(img).cpu()\n",
    "        pred_list.append(np.squeeze(pred.numpy()))\n",
    "        label_list.append(np.squeeze(label.numpy()))\n",
    "\n",
    "\n",
    "\n",
    "    fpr, tpr, thersholds = roc_curve(label_list, pred_list, pos_label=1)\n",
    "    roc_auc = auc(fpr, tpr)\n",
    "    print('rec img roc' , roc_auc)\n"
   ]
  }
 ],
 "metadata": {
  "kernelspec": {
   "display_name": "Python 3.8.11 ('pytorch')",
   "language": "python",
   "name": "python3"
  },
  "language_info": {
   "codemirror_mode": {
    "name": "ipython",
    "version": 3
   },
   "file_extension": ".py",
   "mimetype": "text/x-python",
   "name": "python",
   "nbconvert_exporter": "python",
   "pygments_lexer": "ipython3",
   "version": "3.8.11"
  },
  "metadata": {
   "interpreter": {
    "hash": "4cd7ab41f5fca4b9b44701077e38c5ffd31fe66a6cab21e0214b68d958d0e462"
   }
  },
  "orig_nbformat": 4,
  "vscode": {
   "interpreter": {
    "hash": "ffab94f7c4b00653af1b35f926450b1aa3d7831526d53531f9d8a4210b549987"
   }
  }
 },
 "nbformat": 4,
 "nbformat_minor": 2
}
